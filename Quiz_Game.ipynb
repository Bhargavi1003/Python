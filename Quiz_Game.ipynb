{
 "cells": [
  {
   "cell_type": "markdown",
   "id": "6573a4ac-dc5e-4efd-a2f4-f600dd15768b",
   "metadata": {},
   "source": [
    "### Quiz Game using python modules ###"
   ]
  },
  {
   "cell_type": "code",
   "execution_count": 1,
   "id": "681a6df7-e409-4ea1-bdc1-4dab9baf0f32",
   "metadata": {},
   "outputs": [
    {
     "name": "stdout",
     "output_type": "stream",
     "text": [
      "                                                      Welcome to PYTHON QUIZ game                                                      \n",
      "                                                      ---------------------------                                                      \n",
      "\n",
      "Let's begin the quiz - ALL THE BEST\n",
      "********************************************\n",
      "Who invented python ?\n",
      "A. Denies Ritche\n",
      "B. Guido Van Rossum\n",
      "C. Thomas\n",
      "D. Kelvin pelvis\n"
     ]
    },
    {
     "name": "stdin",
     "output_type": "stream",
     "text": [
      "Enter the option(A/B/C/D):  b\n"
     ]
    },
    {
     "name": "stdout",
     "output_type": "stream",
     "text": [
      "Correct answer\n",
      "Your current score is 1/1\n",
      "********************************************\n",
      "What is python language ?\n",
      "A.Compiler and specific purpose language\n",
      "B. Only compiler language\n",
      "C. Interpreter and General purpose language\n",
      "D. None of the above\n"
     ]
    },
    {
     "name": "stdin",
     "output_type": "stream",
     "text": [
      "Enter the option(A/B/C/D):  c\n"
     ]
    },
    {
     "name": "stdout",
     "output_type": "stream",
     "text": [
      "Correct answer\n",
      "Your current score is 2/2\n",
      "********************************************\n",
      "What is a variable in python ?\n",
      "A. Named memory location\n",
      "B. Just a name assigned to object\n",
      "C. Data type\n",
      "D. Keyword\n"
     ]
    },
    {
     "name": "stdin",
     "output_type": "stream",
     "text": [
      "Enter the option(A/B/C/D):  d\n"
     ]
    },
    {
     "name": "stdout",
     "output_type": "stream",
     "text": [
      "Incorrect answer\n",
      "The correct answer is B\n",
      "Your current score is 2/3\n",
      "********************************************\n",
      "Choose sequence data types in python from below.\n",
      "A. List,Tuple\n",
      "B. String\n",
      "C. Set,Dictionary\n",
      "D. Both A and B\n"
     ]
    },
    {
     "name": "stdin",
     "output_type": "stream",
     "text": [
      "Enter the option(A/B/C/D):  d\n"
     ]
    },
    {
     "name": "stdout",
     "output_type": "stream",
     "text": [
      "Correct answer\n",
      "Your current score is 3/4\n",
      "********************************************\n",
      "123variable_name is correct way of creating data type ?\n",
      "A. True\n",
      "B. Flase\n",
      "C.partially true\n",
      "D. None of the above\n"
     ]
    },
    {
     "name": "stdin",
     "output_type": "stream",
     "text": [
      "Enter the option(A/B/C/D):  a\n"
     ]
    },
    {
     "name": "stdout",
     "output_type": "stream",
     "text": [
      "Incorrect answer\n",
      "The correct answer is B\n",
      "Your current score is 3/5\n",
      "********************************************\n",
      "What is class and object in oops ?\n",
      "A. Instance and Blue print\n",
      "B. Blue print and instance\n",
      "C. Both A and B\n",
      "D. Both A and B and C\n"
     ]
    },
    {
     "name": "stdin",
     "output_type": "stream",
     "text": [
      "Enter the option(A/B/C/D):  b\n"
     ]
    },
    {
     "name": "stdout",
     "output_type": "stream",
     "text": [
      "Incorrect answer\n",
      "The correct answer is C\n",
      "Your current score is 3/6\n",
      "***********************************************************************\n",
      "Your have given 3 correct answers\n",
      "Your final score is 50.0\n"
     ]
    }
   ],
   "source": [
    "from data_base import question_bank\n",
    "from data_base import options\n",
    "print(\"Welcome to PYTHON QUIZ game\".center(135))\n",
    "print(\"---------------------------\".center(135))\n",
    "print()\n",
    "print(\"Let's begin the quiz - ALL THE BEST\")\n",
    "score=0\n",
    "def check_answer(user_guess,correct_answer):\n",
    "    if user_guess==correct_answer:\n",
    "        return True\n",
    "    else:\n",
    "        return False\n",
    "for question_num in range(len(question_bank)):\n",
    "    print(\"********************************************\")\n",
    "    print(question_bank[question_num][\"question\"])\n",
    "    for option in options[question_num]:\n",
    "        print(option)\n",
    "    guess=input(\"Enter the option(A/B/C/D): \").upper()\n",
    "    is_correct=check_answer(guess,question_bank[question_num][\"answer\"])\n",
    "    if is_correct:\n",
    "        print(\"Correct answer\")\n",
    "        score+=1\n",
    "    else:\n",
    "        print(\"Incorrect answer\")\n",
    "        print(f\"The correct answer is {question_bank[question_num][\"answer\"]}\")\n",
    "    print(f\"Your current score is {score}/{question_num+1}\")\n",
    "print(\"***********************************************************************\")\n",
    "print(f\"Your have given {score} correct answers\")\n",
    "print(f\"Your final score is {(score/len(question_bank))*100}\")"
   ]
  },
  {
   "cell_type": "code",
   "execution_count": null,
   "id": "864aad96-4995-4566-88a4-7380e716eb93",
   "metadata": {},
   "outputs": [],
   "source": []
  }
 ],
 "metadata": {
  "kernelspec": {
   "display_name": "Python 3 (ipykernel)",
   "language": "python",
   "name": "python3"
  },
  "language_info": {
   "codemirror_mode": {
    "name": "ipython",
    "version": 3
   },
   "file_extension": ".py",
   "mimetype": "text/x-python",
   "name": "python",
   "nbconvert_exporter": "python",
   "pygments_lexer": "ipython3",
   "version": "3.12.4"
  }
 },
 "nbformat": 4,
 "nbformat_minor": 5
}
