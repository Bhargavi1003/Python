{
 "cells": [
  {
   "cell_type": "code",
   "execution_count": 1,
   "id": "754273a1-518f-4482-bb45-bc6f4cb02965",
   "metadata": {},
   "outputs": [
    {
     "name": "stdout",
     "output_type": "stream",
     "text": [
      "1.26.4\n"
     ]
    }
   ],
   "source": [
    "import numpy\n",
    "print(numpy.__version__)"
   ]
  },
  {
   "cell_type": "code",
   "execution_count": 3,
   "id": "ee65186f-7d58-4579-9c41-282bbe0054db",
   "metadata": {},
   "outputs": [
    {
     "name": "stdout",
     "output_type": "stream",
     "text": [
      "<built-in function array>\n"
     ]
    }
   ],
   "source": [
    "import numpy as np\n",
    "a=np.array\n",
    "print(a)"
   ]
  },
  {
   "cell_type": "code",
   "execution_count": 5,
   "id": "8cb9268b-e85b-4e06-82b4-fa6a596becba",
   "metadata": {},
   "outputs": [
    {
     "name": "stdout",
     "output_type": "stream",
     "text": [
      "[ 7  8 18]\n"
     ]
    }
   ],
   "source": [
    "a=np.array([7,8,18])\n",
    "print(a)"
   ]
  },
  {
   "cell_type": "code",
   "execution_count": 11,
   "id": "26c2e7bf-f270-4e8f-8a15-74f44a1264ae",
   "metadata": {},
   "outputs": [
    {
     "name": "stdin",
     "output_type": "stream",
     "text": [
      " 3 4 5 2 5 6 7 78 8\n"
     ]
    },
    {
     "name": "stdout",
     "output_type": "stream",
     "text": [
      "[ 3  4  5  2  5  6  7 78  8]\n"
     ]
    }
   ],
   "source": [
    "b=np.array(list(map(int,input().split())))\n",
    "print(b)"
   ]
  },
  {
   "cell_type": "code",
   "execution_count": 23,
   "id": "71730e9f-8443-4c94-a7e3-a6350b0da679",
   "metadata": {},
   "outputs": [
    {
     "name": "stdout",
     "output_type": "stream",
     "text": [
      "[[6 7 8]\n",
      " [1 4 0]]\n",
      "int32\n",
      "2\n"
     ]
    }
   ],
   "source": [
    "a=np.array([[6,7,8],[1,4,0]])\n",
    "print(a)\n",
    "print(a.dtype) #data type check using \".dtype\"\n",
    "print(a.ndim) #dimensions os arrays using \".ndim\""
   ]
  },
  {
   "cell_type": "code",
   "execution_count": 29,
   "id": "8b7aecfb-d4e7-4b63-a701-5a64b38d5712",
   "metadata": {},
   "outputs": [
    {
     "name": "stdout",
     "output_type": "stream",
     "text": [
      "['1' '2' '3' '4']\n"
     ]
    }
   ],
   "source": [
    "a=np.array([1,2,3,4],str) #to convert data from one data type to another data type\n",
    "print(a)"
   ]
  },
  {
   "cell_type": "code",
   "execution_count": 37,
   "id": "fe991fbd-2e66-432c-b070-7f1384ca3504",
   "metadata": {},
   "outputs": [
    {
     "name": "stdout",
     "output_type": "stream",
     "text": [
      "6\n",
      "(1, 6)\n"
     ]
    }
   ],
   "source": [
    "a=np.array([[1,2,3,4,5,6]])\n",
    "print(a.size) #size of an array using \".size\"\n",
    "print(a.shape) #rows and columns or shape of array)"
   ]
  },
  {
   "cell_type": "code",
   "execution_count": 41,
   "id": "6e8b0c16-062f-434b-9251-e8346a6b8e78",
   "metadata": {},
   "outputs": [
    {
     "name": "stdout",
     "output_type": "stream",
     "text": [
      "(3, 5)\n"
     ]
    }
   ],
   "source": [
    "#shape of an array [rows & columns]\n",
    "p=np.array([[1,2,3,4,5],[5,6,7,8,9],[0,1,2,3,4]])\n",
    "print(p.shape)"
   ]
  },
  {
   "cell_type": "code",
   "execution_count": 55,
   "id": "e938220f-298f-42c0-a5c2-954afb0abd26",
   "metadata": {},
   "outputs": [
    {
     "name": "stdout",
     "output_type": "stream",
     "text": [
      "original array:\n",
      " [[1 2 3]\n",
      " [2 3 4]]\n",
      "shape: (2, 3)\n",
      "reshaped array:\n",
      " [[1 2]\n",
      " [3 2]\n",
      " [3 4]]\n"
     ]
    }
   ],
   "source": [
    "#reshaping an array using array.reshape(rows_num,col_num)\n",
    "a=np.array([[1,2,3],[2,3,4]])\n",
    "print(\"original array:\\n\",a)\n",
    "print(\"shape:\",a.shape)\n",
    "b=a.reshape(3,2)\n",
    "print(\"reshaped array:\\n\",b)"
   ]
  },
  {
   "cell_type": "code",
   "execution_count": 65,
   "id": "9cadda33-26f0-4aa4-bfed-8115f0f2653a",
   "metadata": {},
   "outputs": [
    {
     "name": "stdout",
     "output_type": "stream",
     "text": [
      "[[6 7 8]\n",
      " [4 5 7]\n",
      " [2 3 4]] \n",
      "\n",
      "7\n"
     ]
    }
   ],
   "source": [
    "#slicing using numpy\n",
    "a=np.array([[6,7,8],[4,5,7],[2,3,4]])\n",
    "print(a,\"\\n\")\n",
    "print(a[0,1]) #array_name[row_num,col_num]"
   ]
  },
  {
   "cell_type": "code",
   "execution_count": 78,
   "id": "981973a2-75fc-4f7c-9c9a-f8464ed3c8f1",
   "metadata": {},
   "outputs": [
    {
     "name": "stdout",
     "output_type": "stream",
     "text": [
      "[  1   2   3   4 556   6]\n",
      "Max: 556\n",
      "Min: 1\n",
      "sum: 572\n"
     ]
    }
   ],
   "source": [
    "#.max(),.min(),.sum()\n",
    "a=np.array([1,2,3,4,556,6])\n",
    "print(a)\n",
    "print(\"Max:\",a.max())\n",
    "print(\"Min:\",a.min())\n",
    "print(\"sum:\",a.sum())"
   ]
  },
  {
   "cell_type": "code",
   "execution_count": 82,
   "id": "98787e6f-7e47-4144-b303-9c0cce6c08ee",
   "metadata": {},
   "outputs": [
    {
     "data": {
      "text/plain": [
       "array([[1., 0., 0.],\n",
       "       [0., 1., 0.],\n",
       "       [0., 0., 1.]])"
      ]
     },
     "execution_count": 82,
     "metadata": {},
     "output_type": "execute_result"
    }
   ],
   "source": [
    "#identity matrix using .identity(rows_num)\n",
    "np.identity(3)"
   ]
  },
  {
   "cell_type": "code",
   "execution_count": 84,
   "id": "e79d71d3-dc96-435a-b8f4-b820f04f0756",
   "metadata": {},
   "outputs": [
    {
     "data": {
      "text/plain": [
       "array([[0., 0., 0., 0.],\n",
       "       [0., 0., 0., 0.]])"
      ]
     },
     "execution_count": 84,
     "metadata": {},
     "output_type": "execute_result"
    }
   ],
   "source": [
    "np.zeros((2,4))"
   ]
  },
  {
   "cell_type": "code",
   "execution_count": 86,
   "id": "a7e681a6-aa74-4741-a5c4-72502ab0ae9b",
   "metadata": {},
   "outputs": [
    {
     "data": {
      "text/plain": [
       "array([[1., 1., 1., 1.],\n",
       "       [1., 1., 1., 1.]])"
      ]
     },
     "execution_count": 86,
     "metadata": {},
     "output_type": "execute_result"
    }
   ],
   "source": [
    "np.ones((2,4))"
   ]
  },
  {
   "cell_type": "code",
   "execution_count": 104,
   "id": "d6881915-2eca-4003-947a-0aee8eaa64dd",
   "metadata": {},
   "outputs": [
    {
     "name": "stdout",
     "output_type": "stream",
     "text": [
      "[[1 2]\n",
      " [3 4]\n",
      " [5 6]]\n",
      "max numbers in columns: [5 6]\n",
      "max numbers in rows: [2 4 6]\n",
      "sum of numbers in rows: [ 3  7 11]\n",
      "sum of numbers in columns: [ 9 12]\n"
     ]
    }
   ],
   "source": [
    "#axis=0 -->columns\n",
    "#axis=1 -->rows\n",
    "a=np.array([[1,2],[3,4],[5,6]])\n",
    "print(a)\n",
    "print(\"max numbers in columns:\",a.max(axis=0))\n",
    "print(\"max numbers in rows:\",a.max(axis=1))\n",
    "print(\"sum of numbers in rows:\",a.sum(axis=1))\n",
    "print(\"sum of numbers in columns:\",a.sum(axis=0))"
   ]
  },
  {
   "cell_type": "code",
   "execution_count": 106,
   "id": "e819bc15-6528-40f1-b815-81437ecd8087",
   "metadata": {},
   "outputs": [
    {
     "name": "stdout",
     "output_type": "stream",
     "text": [
      "[[-1.27664617  0.28291501 -0.69437948  0.89557096]\n",
      " [-1.22339829  1.07743342 -0.50605153  1.19617039]\n",
      " [-0.46799134 -0.18320918 -0.96939079 -0.63037742]]\n"
     ]
    }
   ],
   "source": [
    "#randn --> generates random number between (-1,0,1)\n",
    "a=np.random.randn(3,4)\n",
    "print(a)"
   ]
  },
  {
   "cell_type": "code",
   "execution_count": 114,
   "id": "b2d000eb-bb51-4af4-84ff-8857ff361c46",
   "metadata": {},
   "outputs": [
    {
     "name": "stdout",
     "output_type": "stream",
     "text": [
      "sum of a and b:\n",
      " [[ 8 10 12]\n",
      " [14 16 18]]\n",
      "product of a and b:\n",
      " [[ 7 16 27]\n",
      " [40 55 72]]\n",
      "division of a and b:\n",
      " [[0.14285714 0.25       0.33333333]\n",
      " [0.4        0.45454545 0.5       ]]\n",
      "subtraction of a and b:\n",
      " [[-6 -6 -6]\n",
      " [-6 -6 -6]]\n"
     ]
    }
   ],
   "source": [
    "#Arithmetic operations\n",
    "a=np.array([[1,2,3],[4,5,6]])\n",
    "b=np.array([[7,8,9],[10,11,12]])\n",
    "print(\"sum of a and b:\\n\",a+b)\n",
    "print(\"product of a and b:\\n\",a*b)\n",
    "print(\"division of a and b:\\n\",a/b)\n",
    "print(\"subtraction of a and b:\\n\",a-b)"
   ]
  },
  {
   "cell_type": "code",
   "execution_count": 23,
   "id": "ce074b0e-f360-407f-bf1f-c5d86dfb3f5a",
   "metadata": {},
   "outputs": [
    {
     "name": "stdout",
     "output_type": "stream",
     "text": [
      "[ 0  1  2  3  4  5  6  7  8  9 10]\n",
      "[[ 0  1  2  3]\n",
      " [ 4  5  6  7]\n",
      " [ 8  9 10 11]]\n",
      "[1 2 3 4 5 6 7]\n",
      "2\n"
     ]
    }
   ],
   "source": [
    "#arange()--> similar to range\n",
    "import numpy as np\n",
    "print(np.arange(11))\n",
    "print(np.arange(12).reshape(3,4))\n",
    "print(np.arange(12)[1:8])\n",
    "print(np.arange(12)[1:8][1])"
   ]
  },
  {
   "cell_type": "code",
   "execution_count": 19,
   "id": "f193beca-d644-4686-a95a-e5f70b104b6b",
   "metadata": {},
   "outputs": [
    {
     "name": "stdout",
     "output_type": "stream",
     "text": [
      "[[[ 0  1  2]\n",
      "  [ 3  4  5]]\n",
      "\n",
      " [[ 6  7  8]\n",
      "  [ 9 10 11]]]\n",
      "0\n",
      "1\n",
      "5\n",
      "[3 4 5]\n"
     ]
    }
   ],
   "source": [
    "a=np.arange(12).reshape(2,2,3)\n",
    "print(a)\n",
    "print(a[0][0][0])\n",
    "print(a[0][0][1])\n",
    "print(a[0][1][2])\n",
    "print(a[0][1])"
   ]
  },
  {
   "cell_type": "code",
   "execution_count": 25,
   "id": "27d72900-8026-48d6-958f-4517efc99743",
   "metadata": {},
   "outputs": [
    {
     "name": "stdout",
     "output_type": "stream",
     "text": [
      "[ 2  8 18 32 50 72 98]\n"
     ]
    }
   ],
   "source": [
    "#Numpy BroadCasting\n",
    "a=np.array([1,2,3,4,5,6,7])\n",
    "b=np.array([2,4,6,8,10,12,14])\n",
    "c=a*b\n",
    "print(c)"
   ]
  },
  {
   "cell_type": "code",
   "execution_count": 43,
   "id": "554ef847-aeb6-4fa3-b3b1-dd4856d94769",
   "metadata": {},
   "outputs": [
    {
     "name": "stdout",
     "output_type": "stream",
     "text": [
      "[[ 1  2  3  4]\n",
      " [ 2  4  5  6]\n",
      " [10 20 30 40]]\n",
      "[2 4 6 8]\n",
      "\n",
      "\n",
      "Addition:\n",
      "[[ 3  6  9 12]\n",
      " [ 4  8 11 14]\n",
      " [12 24 36 48]]\n",
      "subtraction:\n",
      "[[-1 -2 -3 -4]\n",
      " [ 0  0 -1 -2]\n",
      " [ 8 16 24 32]]\n",
      "multiplication:\n",
      "[[  2   8  18  32]\n",
      " [  4  16  30  48]\n",
      " [ 20  80 180 320]]\n",
      "Division:\n",
      "[[0.5        0.5        0.5        0.5       ]\n",
      " [1.         1.         0.83333333 0.75      ]\n",
      " [5.         5.         5.         5.        ]]\n"
     ]
    }
   ],
   "source": [
    "a=np.array([[1,2,3,4],[2,4,5,6],[10,20,30,40]])\n",
    "b=np.array([2,4,6,8])\n",
    "print(a)\n",
    "print(b)\n",
    "print(\"\\n\")\n",
    "print(\"Addition:\")\n",
    "print(a+b)\n",
    "print(\"subtraction:\")\n",
    "print(a-b)\n",
    "print(\"multiplication:\")\n",
    "print(a*b)\n",
    "print(\"Division:\")\n",
    "print(a/b)"
   ]
  },
  {
   "cell_type": "code",
   "execution_count": 49,
   "id": "8a756bb7-dcfe-402c-80a5-e0e219c638a1",
   "metadata": {},
   "outputs": [
    {
     "name": "stdout",
     "output_type": "stream",
     "text": [
      "[[ 0  1  2]\n",
      " [ 3  4  5]\n",
      " [ 6  7  8]\n",
      " [ 9 10 11]\n",
      " [12 13 14]]\n",
      "[[0]\n",
      " [1]\n",
      " [2]\n",
      " [3]\n",
      " [4]]\n",
      "\n",
      "\n",
      "Addition:\n",
      " [[ 0  1  2]\n",
      " [ 4  5  6]\n",
      " [ 8  9 10]\n",
      " [12 13 14]\n",
      " [16 17 18]]\n",
      "Subtraction:\n",
      " [[ 0  1  2]\n",
      " [ 2  3  4]\n",
      " [ 4  5  6]\n",
      " [ 6  7  8]\n",
      " [ 8  9 10]]\n",
      "Multiplication:\n",
      " [[ 0  0  0]\n",
      " [ 3  4  5]\n",
      " [12 14 16]\n",
      " [27 30 33]\n",
      " [48 52 56]]\n"
     ]
    }
   ],
   "source": [
    "a=np.arange(15).reshape(5,3)\n",
    "print(a)\n",
    "b=np.arange(5).reshape(5,1)\n",
    "print(b)\n",
    "print(\"\\n\")\n",
    "print(\"Addition:\\n\",a+b)\n",
    "print(\"Subtraction:\\n\",a-b)\n",
    "print(\"Multiplication:\\n\",a*b)"
   ]
  },
  {
   "cell_type": "code",
   "execution_count": 53,
   "id": "51c692ce-d1d8-4cf0-a7de-da09133b1bf5",
   "metadata": {},
   "outputs": [
    {
     "name": "stdout",
     "output_type": "stream",
     "text": [
      "[[1 2 3 7]\n",
      " [3 4 5 9]\n",
      " [4 5 6 7]]\n",
      "Transpose of matrix a:\n",
      "[[1 3 4]\n",
      " [2 4 5]\n",
      " [3 5 6]\n",
      " [7 9 7]]\n"
     ]
    }
   ],
   "source": [
    "#Transpose\n",
    "a=np.array([[1,2,3,7],[3,4,5,9],[4,5,6,7]])\n",
    "print(a)\n",
    "print(\"Transpose of matrix a:\")\n",
    "b=a.T #transpose\n",
    "print(b)"
   ]
  },
  {
   "cell_type": "code",
   "execution_count": 57,
   "id": "96860ae9-3ab5-495e-b819-d2273a21f20d",
   "metadata": {},
   "outputs": [
    {
     "name": "stdout",
     "output_type": "stream",
     "text": [
      "['Bhargavi' 'Keerthana' 'Geethika']\n",
      "[['Bhargavi' '2024']\n",
      " ['Keerthana' '2023']\n",
      " ['Geethika' '2024']]\n"
     ]
    }
   ],
   "source": [
    "a=np.array([\"Bhargavi\",\"Keerthana\",\"Geethika\"])\n",
    "print(a)\n",
    "b=np.array([[\"Bhargavi\",2024],[\"Keerthana\",2023],[\"Geethika\",2024]])\n",
    "print(b)"
   ]
  },
  {
   "cell_type": "code",
   "execution_count": 63,
   "id": "e24db176-8b4d-4008-bd45-43103b90ab95",
   "metadata": {},
   "outputs": [
    {
     "name": "stdout",
     "output_type": "stream",
     "text": [
      "['WelcomeToGunturWelcomeToGunturWelcomeToGuntur']\n"
     ]
    }
   ],
   "source": [
    "a=np.char.add([\"Welcome\"],[\"ToGuntur\"])\n",
    "b=np.char.multiply(a,3)\n",
    "print(b)"
   ]
  },
  {
   "cell_type": "code",
   "execution_count": 71,
   "id": "5836cd0d-46ce-4e30-8941-12e2b5c8d638",
   "metadata": {},
   "outputs": [
    {
     "name": "stdout",
     "output_type": "stream",
     "text": [
      "[12.24  90.12  12.546 52.85 ]\n",
      "Rounding Function: [12.2 90.1 12.5 52.8]\n",
      "Floor Function: [12. 90. 12. 52.]\n",
      "Ceil Function: [13. 91. 13. 53.]\n"
     ]
    }
   ],
   "source": [
    "#around(array,decimalpoints) #floor #ceil\n",
    "#Rounding function\n",
    "a=np.array([12.24,90.12,12.546,52.85])\n",
    "print(a)\n",
    "print(\"Rounding Function:\",np.around(a,1))\n",
    "print(\"Floor Function:\",np.floor(a))\n",
    "print(\"Ceil Function:\",np.ceil(a))"
   ]
  },
  {
   "cell_type": "code",
   "execution_count": 87,
   "id": "09dead8a-6cc2-4c3e-9bf0-8ecb8e3907c7",
   "metadata": {},
   "outputs": [
    {
     "name": "stdout",
     "output_type": "stream",
     "text": [
      "[[1 2 3 7]\n",
      " [3 4 5 9]\n",
      " [4 5 6 7]]\n",
      "median: 4.5\n",
      "median: [3. 4. 5. 7.]\n",
      "median: [2.5 4.5 5.5]\n",
      "mean: 4.666666666666667\n",
      "mean: [2.66666667 3.66666667 4.66666667 7.66666667]\n",
      "mean: [3.25 5.25 5.5 ]\n",
      "average: 4.666666666666667\n"
     ]
    }
   ],
   "source": [
    "#mean() #median #average()\n",
    "a=np.array([[1,2,3,7],[3,4,5,9],[4,5,6,7]])\n",
    "print(a)\n",
    "print(\"median:\",np.median(a))\n",
    "print(\"median:\",np.median(a,0))\n",
    "print(\"median:\",np.median(a,1))\n",
    "print(\"mean:\",np.mean(a))\n",
    "print(\"mean:\",np.mean(a,0))\n",
    "print(\"mean:\",np.mean(a,1))\n",
    "print(\"average:\",np.average(a))\n",
    "#Numpy has no attribute MODE"
   ]
  },
  {
   "cell_type": "code",
   "execution_count": 91,
   "id": "96e5b85d-0881-40a7-ac69-0c3e1e5f9690",
   "metadata": {},
   "outputs": [
    {
     "name": "stdout",
     "output_type": "stream",
     "text": [
      "[[100 200]\n",
      " [ 30  40]]\n",
      "[[10 20]\n",
      " [50 60]]\n",
      "Dot product:\n",
      "[[11000 14000]\n",
      " [ 2300  3000]]\n"
     ]
    }
   ],
   "source": [
    "#dotproduct\n",
    "a=np.array([[100,200],[30,40]])\n",
    "b=np.array([[10,20],[50,60]])\n",
    "print(a)\n",
    "print(b)\n",
    "print(\"Dot product:\")\n",
    "print(np.dot(a,b))"
   ]
  },
  {
   "cell_type": "code",
   "execution_count": null,
   "id": "7b320ff8-50b4-443b-b8e7-54c9d76b3fff",
   "metadata": {},
   "outputs": [],
   "source": []
  },
  {
   "cell_type": "code",
   "execution_count": null,
   "id": "86c97824-4b9d-470e-9bc6-426c395ac818",
   "metadata": {},
   "outputs": [],
   "source": []
  },
  {
   "cell_type": "code",
   "execution_count": null,
   "id": "512f4d72-57c7-4717-890b-45379f4f3360",
   "metadata": {},
   "outputs": [],
   "source": []
  }
 ],
 "metadata": {
  "kernelspec": {
   "display_name": "Python 3 (ipykernel)",
   "language": "python",
   "name": "python3"
  },
  "language_info": {
   "codemirror_mode": {
    "name": "ipython",
    "version": 3
   },
   "file_extension": ".py",
   "mimetype": "text/x-python",
   "name": "python",
   "nbconvert_exporter": "python",
   "pygments_lexer": "ipython3",
   "version": "3.12.4"
  }
 },
 "nbformat": 4,
 "nbformat_minor": 5
}
