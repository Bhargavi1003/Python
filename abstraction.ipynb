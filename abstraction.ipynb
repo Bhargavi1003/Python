{
 "cells": [
  {
   "cell_type": "code",
   "execution_count": 15,
   "id": "b649cf06-aee7-403d-8f7e-a93a91ed7370",
   "metadata": {},
   "outputs": [
    {
     "name": "stdout",
     "output_type": "stream",
     "text": [
      "start by kick\n",
      "I have bike with 2 tyres and Black color\n",
      "Start by self\n",
      "2\n",
      "start by key\n",
      "no of tyres for car are: 4\n"
     ]
    }
   ],
   "source": [
    "from main import *\n",
    "bike1=Bike(2,\"Black\")\n",
    "bike1.start()\n",
    "bike1.display()\n",
    "scooty1=Scooty(2)\n",
    "scooty1.start()\n",
    "print(scooty1.no_of_tyres)\n",
    "car1=Car(4)\n",
    "car1.start()\n",
    "print(\"no of tyres for car are:\",car1.no_of_tyres)"
   ]
  }
 ],
 "metadata": {
  "kernelspec": {
   "display_name": "Python 3 (ipykernel)",
   "language": "python",
   "name": "python3"
  },
  "language_info": {
   "codemirror_mode": {
    "name": "ipython",
    "version": 3
   },
   "file_extension": ".py",
   "mimetype": "text/x-python",
   "name": "python",
   "nbconvert_exporter": "python",
   "pygments_lexer": "ipython3",
   "version": "3.12.4"
  }
 },
 "nbformat": 4,
 "nbformat_minor": 5
}
