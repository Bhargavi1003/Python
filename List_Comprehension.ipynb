{
 "cells": [
  {
   "cell_type": "markdown",
   "id": "4aa9b56b-ae5e-44d6-97ce-1231071cfc93",
   "metadata": {},
   "source": [
    "### List comprehensions ###"
   ]
  },
  {
   "cell_type": "code",
   "execution_count": 27,
   "id": "3181b18e-9f60-4167-8f41-23cdd8e46375",
   "metadata": {},
   "outputs": [
    {
     "name": "stdout",
     "output_type": "stream",
     "text": [
      "[0, 2, 4, 6, 8, 10]\n"
     ]
    }
   ],
   "source": [
    "#[expression for item in iterable]\n",
    "a=[i for i in range(11) if i%2==0]\n",
    "print(a)"
   ]
  },
  {
   "cell_type": "code",
   "execution_count": 13,
   "id": "27873c9c-3788-4cb1-ae83-f98e32ac8ad5",
   "metadata": {},
   "outputs": [
    {
     "name": "stdout",
     "output_type": "stream",
     "text": [
      "[0, 'odd', 2, 'odd', 4, 'odd', 6, 'odd', 8, 'odd', 10]\n"
     ]
    }
   ],
   "source": [
    "a=[i if i%2==0 else \"odd\" for i in range(11)]\n",
    "print(a)"
   ]
  },
  {
   "cell_type": "markdown",
   "id": "0ed229c4-8bb6-4f90-9afd-4fd3ac99ea32",
   "metadata": {},
   "source": [
    "### Dictionary comprehensions ###"
   ]
  },
  {
   "cell_type": "code",
   "execution_count": 19,
   "id": "2be5d6cf-a66c-4ac1-a954-c9dad0536d25",
   "metadata": {},
   "outputs": [
    {
     "name": "stdout",
     "output_type": "stream",
     "text": [
      "{0: 0, 1: 1, 2: 4, 3: 9, 4: 16, 5: 25, 6: 36, 7: 49, 8: 64, 9: 81}\n"
     ]
    }
   ],
   "source": [
    "#{key_comprehension : value_expression for item in iterable}\n",
    "squares={}\n",
    "for i in range(10):\n",
    "    squares[i]=i**2\n",
    "print(squares)"
   ]
  },
  {
   "cell_type": "code",
   "execution_count": 25,
   "id": "19a2dea9-4b9f-4f5a-8526-a966fbb797f7",
   "metadata": {},
   "outputs": [
    {
     "data": {
      "text/plain": [
       "{0: 0, 2: 4, 4: 16, 6: 36, 8: 64}"
      ]
     },
     "execution_count": 25,
     "metadata": {},
     "output_type": "execute_result"
    }
   ],
   "source": [
    "squares={i:i**2 for i in range(10) if i%2==0}\n",
    "squares"
   ]
  },
  {
   "cell_type": "code",
   "execution_count": null,
   "id": "789627c2-2e0f-42e8-8562-9a94e3805e44",
   "metadata": {},
   "outputs": [],
   "source": []
  },
  {
   "cell_type": "code",
   "execution_count": null,
   "id": "a3b77d90-7463-4dca-8164-3da06d6e8828",
   "metadata": {},
   "outputs": [],
   "source": []
  },
  {
   "cell_type": "code",
   "execution_count": null,
   "id": "885001b8-6e6a-4ff6-a5f2-5b2f99b62685",
   "metadata": {},
   "outputs": [],
   "source": []
  },
  {
   "cell_type": "code",
   "execution_count": null,
   "id": "602f30cc-bc20-4f06-9c47-0dd78030b721",
   "metadata": {},
   "outputs": [],
   "source": []
  },
  {
   "cell_type": "code",
   "execution_count": null,
   "id": "00de68e5-2cf3-4416-aa62-51fb4263473b",
   "metadata": {},
   "outputs": [],
   "source": []
  },
  {
   "cell_type": "code",
   "execution_count": null,
   "id": "27f6e223-0693-4d94-9c2b-2a1db1b87a81",
   "metadata": {},
   "outputs": [],
   "source": []
  },
  {
   "cell_type": "code",
   "execution_count": null,
   "id": "661d91c5-b566-420a-93dd-5527d4e8c747",
   "metadata": {},
   "outputs": [],
   "source": []
  },
  {
   "cell_type": "code",
   "execution_count": null,
   "id": "efbdeff5-887d-4588-a831-5027baf18598",
   "metadata": {},
   "outputs": [],
   "source": []
  },
  {
   "cell_type": "code",
   "execution_count": null,
   "id": "733f4b45-ed3b-494b-95c8-71bbac4a42b0",
   "metadata": {},
   "outputs": [],
   "source": []
  },
  {
   "cell_type": "code",
   "execution_count": null,
   "id": "7f6c1099-f055-4ec9-93e4-3a42e47bcb25",
   "metadata": {},
   "outputs": [],
   "source": []
  },
  {
   "cell_type": "code",
   "execution_count": null,
   "id": "8332160e-93ed-4ac6-9d40-5483dcc41ef1",
   "metadata": {},
   "outputs": [],
   "source": []
  },
  {
   "cell_type": "code",
   "execution_count": null,
   "id": "ca6f8362-52d0-4719-baeb-7c504b980591",
   "metadata": {},
   "outputs": [],
   "source": []
  }
 ],
 "metadata": {
  "kernelspec": {
   "display_name": "Python 3 (ipykernel)",
   "language": "python",
   "name": "python3"
  },
  "language_info": {
   "codemirror_mode": {
    "name": "ipython",
    "version": 3
   },
   "file_extension": ".py",
   "mimetype": "text/x-python",
   "name": "python",
   "nbconvert_exporter": "python",
   "pygments_lexer": "ipython3",
   "version": "3.12.4"
  }
 },
 "nbformat": 4,
 "nbformat_minor": 5
}
