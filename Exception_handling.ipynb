{
 "cells": [
  {
   "cell_type": "markdown",
   "id": "04722a7a-77a0-43e7-996f-86127d6a7257",
   "metadata": {},
   "source": [
    "**Exception Handling**"
   ]
  },
  {
   "cell_type": "code",
   "execution_count": 2,
   "id": "1545227d-47ec-4baf-8c0b-2555fb9a194c",
   "metadata": {},
   "outputs": [
    {
     "name": "stdout",
     "output_type": "stream",
     "text": [
      "p\n",
      "r\n",
      "i\n",
      "y\n",
      "a\n"
     ]
    }
   ],
   "source": [
    "a=\"priyanka\"\n",
    "for i in a:\n",
    "    if i=='n':\n",
    "        break\n",
    "    print(i)"
   ]
  },
  {
   "cell_type": "code",
   "execution_count": 14,
   "id": "074a10ca-883c-4ccc-ba0e-bfe576ac6fe0",
   "metadata": {},
   "outputs": [
    {
     "ename": "NameError",
     "evalue": "name 'n' is not defined",
     "output_type": "error",
     "traceback": [
      "\u001b[1;31m---------------------------------------------------------------------------\u001b[0m",
      "\u001b[1;31mNameError\u001b[0m                                 Traceback (most recent call last)",
      "Cell \u001b[1;32mIn[14], line 3\u001b[0m\n\u001b[0;32m      1\u001b[0m a\u001b[38;5;241m=\u001b[39m\u001b[38;5;124m\"\u001b[39m\u001b[38;5;124mpriyanka\u001b[39m\u001b[38;5;124m\"\u001b[39m\n\u001b[0;32m      2\u001b[0m \u001b[38;5;28;01mfor\u001b[39;00m i \u001b[38;5;129;01min\u001b[39;00m a:\n\u001b[1;32m----> 3\u001b[0m     \u001b[38;5;28;01mif\u001b[39;00m i\u001b[38;5;241m==\u001b[39mn:\n\u001b[0;32m      4\u001b[0m         \u001b[38;5;28;01mbreak\u001b[39;00m\n\u001b[0;32m      5\u001b[0m     \u001b[38;5;28mprint\u001b[39m(i)\n",
      "\u001b[1;31mNameError\u001b[0m: name 'n' is not defined"
     ]
    }
   ],
   "source": [
    "a=\"priyanka\"\n",
    "for i in a:\n",
    "    if i==n:\n",
    "        break\n",
    "    print(i)\n",
    "name=\"Bhargavi\"\n",
    "print(name) #this block will not be executed becoz their is an error in above of code"
   ]
  },
  {
   "cell_type": "code",
   "execution_count": 10,
   "id": "d5a31b98-3525-40a4-b101-33cc56e415b3",
   "metadata": {},
   "outputs": [
    {
     "name": "stdout",
     "output_type": "stream",
     "text": [
      "This would be an error\n",
      "167\n"
     ]
    }
   ],
   "source": [
    "a=\"priyanka\"\n",
    "try:\n",
    "    for i in a:\n",
    "        if i==n:\n",
    "            break\n",
    "        print(i)\n",
    "except Exception as e:\n",
    "    print(\"This would be an error\")\n",
    "a=89\n",
    "b=78\n",
    "print(a+b) #this block will be printed even though their is an error"
   ]
  },
  {
   "cell_type": "code",
   "execution_count": 12,
   "id": "031a9abb-6af4-4182-a4e6-e10811ae26fc",
   "metadata": {},
   "outputs": [
    {
     "name": "stdout",
     "output_type": "stream",
     "text": [
      "This would be an error\n",
      "Finally executed\n",
      "167\n"
     ]
    }
   ],
   "source": [
    "a=\"priyanka\"\n",
    "try:\n",
    "    for i in a:\n",
    "        if i==n:\n",
    "            break\n",
    "        print(i)\n",
    "except Exception as e:\n",
    "    print(\"This would be an error\")\n",
    "\n",
    "finally:\n",
    "    print(\"Finally executed\")\n",
    "a=89\n",
    "b=78\n",
    "print(a+b) #this block will be printed even though their is an error"
   ]
  },
  {
   "cell_type": "code",
   "execution_count": 16,
   "id": "c0c267dd-aa72-4bfb-ae82-671c7c3fd8d4",
   "metadata": {},
   "outputs": [
    {
     "name": "stdin",
     "output_type": "stream",
     "text": [
      "enter a number:  tftg\n"
     ]
    },
    {
     "ename": "ValueError",
     "evalue": "invalid literal for int() with base 10: 'tftg'",
     "output_type": "error",
     "traceback": [
      "\u001b[1;31m---------------------------------------------------------------------------\u001b[0m",
      "\u001b[1;31mValueError\u001b[0m                                Traceback (most recent call last)",
      "Cell \u001b[1;32mIn[16], line 1\u001b[0m\n\u001b[1;32m----> 1\u001b[0m x\u001b[38;5;241m=\u001b[39m\u001b[38;5;28mint\u001b[39m(\u001b[38;5;28minput\u001b[39m(\u001b[38;5;124m\"\u001b[39m\u001b[38;5;124menter a number: \u001b[39m\u001b[38;5;124m\"\u001b[39m))\n\u001b[0;32m      2\u001b[0m result\u001b[38;5;241m=\u001b[39m\u001b[38;5;241m10\u001b[39m\u001b[38;5;241m/\u001b[39mx\n\u001b[0;32m      3\u001b[0m \u001b[38;5;28mprint\u001b[39m(result)\n",
      "\u001b[1;31mValueError\u001b[0m: invalid literal for int() with base 10: 'tftg'"
     ]
    }
   ],
   "source": [
    "x=int(input(\"enter a number: \"))\n",
    "result=10/x\n",
    "print(result)  "
   ]
  },
  {
   "cell_type": "code",
   "execution_count": 20,
   "id": "47740123-cef5-4815-9c24-d8b2c1f3ad11",
   "metadata": {},
   "outputs": [
    {
     "name": "stdin",
     "output_type": "stream",
     "text": [
      "enter a number:  0\n"
     ]
    },
    {
     "ename": "ZeroDivisionError",
     "evalue": "division by zero",
     "output_type": "error",
     "traceback": [
      "\u001b[1;31m---------------------------------------------------------------------------\u001b[0m",
      "\u001b[1;31mZeroDivisionError\u001b[0m                         Traceback (most recent call last)",
      "Cell \u001b[1;32mIn[20], line 2\u001b[0m\n\u001b[0;32m      1\u001b[0m x\u001b[38;5;241m=\u001b[39m\u001b[38;5;28mint\u001b[39m(\u001b[38;5;28minput\u001b[39m(\u001b[38;5;124m\"\u001b[39m\u001b[38;5;124menter a number: \u001b[39m\u001b[38;5;124m\"\u001b[39m))\n\u001b[1;32m----> 2\u001b[0m result\u001b[38;5;241m=\u001b[39m\u001b[38;5;241m10\u001b[39m\u001b[38;5;241m/\u001b[39mx\n\u001b[0;32m      3\u001b[0m \u001b[38;5;28mprint\u001b[39m(result)\n",
      "\u001b[1;31mZeroDivisionError\u001b[0m: division by zero"
     ]
    }
   ],
   "source": [
    "x=int(input(\"enter a number: \"))\n",
    "result=10/x\n",
    "print(result)"
   ]
  },
  {
   "cell_type": "code",
   "execution_count": 22,
   "id": "722bea4b-ca0c-42d3-a31c-8bb758c3fc39",
   "metadata": {},
   "outputs": [
    {
     "name": "stdin",
     "output_type": "stream",
     "text": [
      "enter a number:  gt\n"
     ]
    },
    {
     "name": "stdout",
     "output_type": "stream",
     "text": [
      "please enter correct value\n",
      "finally done\n"
     ]
    }
   ],
   "source": [
    "try:\n",
    "    x=int(input(\"enter a number: \"))\n",
    "    result=10/x\n",
    "except ValueError:\n",
    "    print(\"please enter correct value\")\n",
    "except ZeroDivisionError:\n",
    "    print(\"Division by zero is not allowed\")\n",
    "except Exception as e:\n",
    "    print(\"Error\")\n",
    "else:\n",
    "    print(result)\n",
    "finally:\n",
    "    print(\"finally done\")"
   ]
  },
  {
   "cell_type": "code",
   "execution_count": 24,
   "id": "e663dc4e-c24a-4ef5-a3f6-b2986877465c",
   "metadata": {},
   "outputs": [
    {
     "name": "stdin",
     "output_type": "stream",
     "text": [
      "enter a number:  0\n"
     ]
    },
    {
     "name": "stdout",
     "output_type": "stream",
     "text": [
      "Division by zero is not allowed\n",
      "finally done\n"
     ]
    }
   ],
   "source": [
    "try:\n",
    "    x=int(input(\"enter a number: \"))\n",
    "    result=10/x\n",
    "except ValueError:\n",
    "    print(\"please enter correct value\")\n",
    "except ZeroDivisionError:\n",
    "    print(\"Division by zero is not allowed\")\n",
    "except Exception as e:\n",
    "    print(\"Error\")\n",
    "else:\n",
    "    print(result)\n",
    "finally:\n",
    "    print(\"finally done\")"
   ]
  },
  {
   "cell_type": "code",
   "execution_count": 28,
   "id": "18fbd7cd-9d12-43ec-9db8-87bbedbcf847",
   "metadata": {},
   "outputs": [
    {
     "name": "stdin",
     "output_type": "stream",
     "text": [
      "enter a number:  34\n"
     ]
    },
    {
     "name": "stdout",
     "output_type": "stream",
     "text": [
      "0.29411764705882354\n",
      "finally done\n"
     ]
    }
   ],
   "source": [
    "try:\n",
    "    x=int(input(\"enter a number: \"))\n",
    "    result=10/x\n",
    "except ValueError:\n",
    "    print(\"please enter correct value\")\n",
    "except ZeroDivisionError:\n",
    "    print(\"Division by zero is not allowed\")\n",
    "except Exception as e:\n",
    "    print(\"Error\")\n",
    "else:\n",
    "    print(result)\n",
    "finally:\n",
    "    print(\"finally done\")"
   ]
  },
  {
   "cell_type": "code",
   "execution_count": 30,
   "id": "d9b34d04-0934-4680-a576-b6af14b10e84",
   "metadata": {},
   "outputs": [
    {
     "name": "stdout",
     "output_type": "stream",
     "text": [
      "element at 0 is p\n",
      "element at 1 is r\n",
      "element at 2 is a\n",
      "element at 3 is n\n",
      "element at 4 is a\n",
      "element at 5 is v\n"
     ]
    }
   ],
   "source": [
    "list1=['p','r','a','n','a','v']\n",
    "for i in range(len(list1)):\n",
    "    print(f\"element at {i} is {list1[i]}\")"
   ]
  },
  {
   "cell_type": "code",
   "execution_count": 32,
   "id": "ace5288c-06f9-4f77-bfa7-05ecdef2649f",
   "metadata": {},
   "outputs": [
    {
     "name": "stdout",
     "output_type": "stream",
     "text": [
      "element at 0 is p\n",
      "element at 1 is r\n",
      "element at 2 is a\n",
      "element at 3 is n\n",
      "element at 4 is a\n",
      "element at 5 is v\n"
     ]
    },
    {
     "ename": "IndexError",
     "evalue": "list index out of range",
     "output_type": "error",
     "traceback": [
      "\u001b[1;31m---------------------------------------------------------------------------\u001b[0m",
      "\u001b[1;31mIndexError\u001b[0m                                Traceback (most recent call last)",
      "Cell \u001b[1;32mIn[32], line 3\u001b[0m\n\u001b[0;32m      1\u001b[0m list1\u001b[38;5;241m=\u001b[39m[\u001b[38;5;124m'\u001b[39m\u001b[38;5;124mp\u001b[39m\u001b[38;5;124m'\u001b[39m,\u001b[38;5;124m'\u001b[39m\u001b[38;5;124mr\u001b[39m\u001b[38;5;124m'\u001b[39m,\u001b[38;5;124m'\u001b[39m\u001b[38;5;124ma\u001b[39m\u001b[38;5;124m'\u001b[39m,\u001b[38;5;124m'\u001b[39m\u001b[38;5;124mn\u001b[39m\u001b[38;5;124m'\u001b[39m,\u001b[38;5;124m'\u001b[39m\u001b[38;5;124ma\u001b[39m\u001b[38;5;124m'\u001b[39m,\u001b[38;5;124m'\u001b[39m\u001b[38;5;124mv\u001b[39m\u001b[38;5;124m'\u001b[39m]\n\u001b[0;32m      2\u001b[0m \u001b[38;5;28;01mfor\u001b[39;00m i \u001b[38;5;129;01min\u001b[39;00m \u001b[38;5;28mrange\u001b[39m(\u001b[38;5;28mlen\u001b[39m(list1)\u001b[38;5;241m+\u001b[39m\u001b[38;5;241m2\u001b[39m):\n\u001b[1;32m----> 3\u001b[0m     \u001b[38;5;28mprint\u001b[39m(\u001b[38;5;124mf\u001b[39m\u001b[38;5;124m\"\u001b[39m\u001b[38;5;124melement at \u001b[39m\u001b[38;5;132;01m{\u001b[39;00mi\u001b[38;5;132;01m}\u001b[39;00m\u001b[38;5;124m is \u001b[39m\u001b[38;5;132;01m{\u001b[39;00mlist1[i]\u001b[38;5;132;01m}\u001b[39;00m\u001b[38;5;124m\"\u001b[39m)\n",
      "\u001b[1;31mIndexError\u001b[0m: list index out of range"
     ]
    }
   ],
   "source": [
    "list1=['p','r','a','n','a','v']\n",
    "for i in range(len(list1)+2):\n",
    "    print(f\"element at {i} is {list1[i]}\")"
   ]
  },
  {
   "cell_type": "code",
   "execution_count": 95,
   "id": "c9894352-93f8-4f5a-8adf-2c3ea9aa9039",
   "metadata": {},
   "outputs": [
    {
     "name": "stdout",
     "output_type": "stream",
     "text": [
      "element at 0 is p\n",
      "element at 1 is r\n",
      "element at 2 is a\n",
      "element at 3 is n\n",
      "element at 4 is a\n",
      "element at 5 is v\n",
      "index out of range\n"
     ]
    }
   ],
   "source": [
    "try: \n",
    "    list1=['p','r','a','n','a','v']\n",
    "    for i in range(len(list1)+2):\n",
    "        print(f\"element at {i} is {list1[i]}\")\n",
    "except:\n",
    "    print(\"index out of range\")"
   ]
  },
  {
   "cell_type": "markdown",
   "id": "9446de07-6867-4235-b9cb-b1a88604bd12",
   "metadata": {},
   "source": [
    "**Create own error**"
   ]
  },
  {
   "cell_type": "code",
   "execution_count": 40,
   "id": "6b6f3f23-4c36-441b-89d0-d9c66036197d",
   "metadata": {},
   "outputs": [
    {
     "name": "stdout",
     "output_type": "stream",
     "text": [
      "caught a ValueError: X should be positive number\n"
     ]
    }
   ],
   "source": [
    "#create custom exception : defined by user / raise an exception --> using raise ValueError()\n",
    "def function(x):\n",
    "    if x<0:\n",
    "        raise ValueError(\"X should be positive number\")\n",
    "try:\n",
    "    result=function(-5)\n",
    "except ValueError as e:\n",
    "    print(f\"caught a ValueError: {e}\")\n",
    "else:\n",
    "    print(f\"Result: {result}\")"
   ]
  },
  {
   "cell_type": "markdown",
   "id": "52af5a69-f9e9-4881-9eef-829eeaae53bb",
   "metadata": {},
   "source": [
    "**Exceptions in Python**"
   ]
  },
  {
   "cell_type": "code",
   "execution_count": 43,
   "id": "11442757-34d6-4186-818a-8cc8dcd28ca8",
   "metadata": {},
   "outputs": [
    {
     "ename": "SyntaxError",
     "evalue": "incomplete input (3136359239.py, line 2)",
     "output_type": "error",
     "traceback": [
      "\u001b[1;36m  Cell \u001b[1;32mIn[43], line 2\u001b[1;36m\u001b[0m\n\u001b[1;33m    print(\"Hello\"\u001b[0m\n\u001b[1;37m                 ^\u001b[0m\n\u001b[1;31mSyntaxError\u001b[0m\u001b[1;31m:\u001b[0m incomplete input\n"
     ]
    }
   ],
   "source": [
    "#syntax error\n",
    "print(\"Hello\""
   ]
  },
  {
   "cell_type": "code",
   "execution_count": 45,
   "id": "e1f0f6b4-7dbb-4a8e-ba2e-32db3de253be",
   "metadata": {},
   "outputs": [
    {
     "ename": "IndentationError",
     "evalue": "expected an indented block after function definition on line 2 (761101792.py, line 3)",
     "output_type": "error",
     "traceback": [
      "\u001b[1;36m  Cell \u001b[1;32mIn[45], line 3\u001b[1;36m\u001b[0m\n\u001b[1;33m    print('a')\u001b[0m\n\u001b[1;37m    ^\u001b[0m\n\u001b[1;31mIndentationError\u001b[0m\u001b[1;31m:\u001b[0m expected an indented block after function definition on line 2\n"
     ]
    }
   ],
   "source": [
    "#Indentation error\n",
    "def function():\n",
    "print('a')"
   ]
  },
  {
   "cell_type": "code",
   "execution_count": 59,
   "id": "dd552829-7ee9-48d9-b878-cf52e4023422",
   "metadata": {},
   "outputs": [
    {
     "name": "stdin",
     "output_type": "stream",
     "text": [
      " kjdckj\n"
     ]
    },
    {
     "ename": "ValueError",
     "evalue": "invalid literal for int() with base 10: 'kjdckj'",
     "output_type": "error",
     "traceback": [
      "\u001b[1;31m---------------------------------------------------------------------------\u001b[0m",
      "\u001b[1;31mValueError\u001b[0m                                Traceback (most recent call last)",
      "Cell \u001b[1;32mIn[59], line 2\u001b[0m\n\u001b[0;32m      1\u001b[0m \u001b[38;5;66;03m#Value Error - when functio or variable recieves inappropriate value\u001b[39;00m\n\u001b[1;32m----> 2\u001b[0m x\u001b[38;5;241m=\u001b[39m\u001b[38;5;28mint\u001b[39m(\u001b[38;5;28minput\u001b[39m())\n\u001b[0;32m      3\u001b[0m \u001b[38;5;28mprint\u001b[39m(x)\n",
      "\u001b[1;31mValueError\u001b[0m: invalid literal for int() with base 10: 'kjdckj'"
     ]
    }
   ],
   "source": [
    "#Value Error - when functio or variable recieves inappropriate value\n",
    "x=int(input())\n",
    "print(x)"
   ]
  },
  {
   "cell_type": "code",
   "execution_count": 51,
   "id": "603878d1-87cc-4020-82cc-05afcca07483",
   "metadata": {},
   "outputs": [
    {
     "ename": "NameError",
     "evalue": "name 'p' is not defined",
     "output_type": "error",
     "traceback": [
      "\u001b[1;31m---------------------------------------------------------------------------\u001b[0m",
      "\u001b[1;31mNameError\u001b[0m                                 Traceback (most recent call last)",
      "Cell \u001b[1;32mIn[51], line 2\u001b[0m\n\u001b[0;32m      1\u001b[0m \u001b[38;5;66;03m#Name Error - variable or function names are not defined\u001b[39;00m\n\u001b[1;32m----> 2\u001b[0m \u001b[38;5;28mprint\u001b[39m(p)\n",
      "\u001b[1;31mNameError\u001b[0m: name 'p' is not defined"
     ]
    }
   ],
   "source": [
    "#Name Error - variable or function names are not defined\n",
    "print(p)"
   ]
  },
  {
   "cell_type": "code",
   "execution_count": 57,
   "id": "dfb95fb8-0c91-4a48-a00c-f5fbe745851a",
   "metadata": {},
   "outputs": [
    {
     "ename": "TypeError",
     "evalue": "can only concatenate str (not \"int\") to str",
     "output_type": "error",
     "traceback": [
      "\u001b[1;31m---------------------------------------------------------------------------\u001b[0m",
      "\u001b[1;31mTypeError\u001b[0m                                 Traceback (most recent call last)",
      "Cell \u001b[1;32mIn[57], line 2\u001b[0m\n\u001b[0;32m      1\u001b[0m \u001b[38;5;66;03m#Type Error - type mistake like trying to enter value of inappropriate type \u001b[39;00m\n\u001b[1;32m----> 2\u001b[0m \u001b[38;5;28mprint\u001b[39m(\u001b[38;5;124m\"\u001b[39m\u001b[38;5;124mhi\u001b[39m\u001b[38;5;124m\"\u001b[39m\u001b[38;5;241m+\u001b[39m\u001b[38;5;241m76\u001b[39m)\n",
      "\u001b[1;31mTypeError\u001b[0m: can only concatenate str (not \"int\") to str"
     ]
    }
   ],
   "source": [
    "#Type Error - type mistake like trying to enter value of inappropriate type \n",
    "print(\"hi\"+76)"
   ]
  },
  {
   "cell_type": "code",
   "execution_count": 63,
   "id": "6a492fef-d42a-4bad-8eea-f7cc3a78f4e9",
   "metadata": {},
   "outputs": [
    {
     "ename": "IndexError",
     "evalue": "list index out of range",
     "output_type": "error",
     "traceback": [
      "\u001b[1;31m---------------------------------------------------------------------------\u001b[0m",
      "\u001b[1;31mIndexError\u001b[0m                                Traceback (most recent call last)",
      "Cell \u001b[1;32mIn[63], line 3\u001b[0m\n\u001b[0;32m      1\u001b[0m \u001b[38;5;66;03m#Index error - index out of range\u001b[39;00m\n\u001b[0;32m      2\u001b[0m list1\u001b[38;5;241m=\u001b[39m[\u001b[38;5;241m1\u001b[39m,\u001b[38;5;241m2\u001b[39m,\u001b[38;5;241m3\u001b[39m,\u001b[38;5;241m4\u001b[39m,\u001b[38;5;241m5\u001b[39m]\n\u001b[1;32m----> 3\u001b[0m \u001b[38;5;28mprint\u001b[39m(list1[\u001b[38;5;28mlen\u001b[39m(list1)\u001b[38;5;241m+\u001b[39m\u001b[38;5;241m7\u001b[39m])\n",
      "\u001b[1;31mIndexError\u001b[0m: list index out of range"
     ]
    }
   ],
   "source": [
    "#Index error - index out of range\n",
    "list1=[1,2,3,4,5]\n",
    "print(list1[len(list1)+7])"
   ]
  },
  {
   "cell_type": "code",
   "execution_count": 69,
   "id": "e9651275-704e-4634-a94c-d723f66fa7a1",
   "metadata": {},
   "outputs": [
    {
     "ename": "KeyError",
     "evalue": "3",
     "output_type": "error",
     "traceback": [
      "\u001b[1;31m---------------------------------------------------------------------------\u001b[0m",
      "\u001b[1;31mKeyError\u001b[0m                                  Traceback (most recent call last)",
      "Cell \u001b[1;32mIn[69], line 3\u001b[0m\n\u001b[0;32m      1\u001b[0m \u001b[38;5;66;03m#Key Error - trying to access the key which is not existed in dictionary\u001b[39;00m\n\u001b[0;32m      2\u001b[0m dict1\u001b[38;5;241m=\u001b[39m{\u001b[38;5;241m1\u001b[39m:\u001b[38;5;124m'\u001b[39m\u001b[38;5;124mhi\u001b[39m\u001b[38;5;124m'\u001b[39m,\u001b[38;5;241m2\u001b[39m:\u001b[38;5;124m'\u001b[39m\u001b[38;5;124mhello\u001b[39m\u001b[38;5;124m'\u001b[39m}\n\u001b[1;32m----> 3\u001b[0m \u001b[38;5;28mprint\u001b[39m(dict1[\u001b[38;5;241m3\u001b[39m])\n",
      "\u001b[1;31mKeyError\u001b[0m: 3"
     ]
    }
   ],
   "source": [
    "#Key Error - trying to access the key which is not existed in dictionary\n",
    "dict1={1:'hi',2:'hello'}\n",
    "print(dict1[3])"
   ]
  },
  {
   "cell_type": "code",
   "execution_count": 75,
   "id": "e458efde-1ae4-432e-8426-c563fc48b3f8",
   "metadata": {},
   "outputs": [
    {
     "ename": "FileNotFoundError",
     "evalue": "[Errno 2] No such file or directory: 'bhargavi.txt'",
     "output_type": "error",
     "traceback": [
      "\u001b[1;31m---------------------------------------------------------------------------\u001b[0m",
      "\u001b[1;31mFileNotFoundError\u001b[0m                         Traceback (most recent call last)",
      "Cell \u001b[1;32mIn[75], line 2\u001b[0m\n\u001b[0;32m      1\u001b[0m \u001b[38;5;66;03m#FileNotFoundError\u001b[39;00m\n\u001b[1;32m----> 2\u001b[0m file\u001b[38;5;241m=\u001b[39m\u001b[38;5;28mopen\u001b[39m(\u001b[38;5;124m\"\u001b[39m\u001b[38;5;124mbhargavi.txt\u001b[39m\u001b[38;5;124m\"\u001b[39m,\u001b[38;5;124m'\u001b[39m\u001b[38;5;124mr\u001b[39m\u001b[38;5;124m'\u001b[39m)\n\u001b[0;32m      3\u001b[0m \u001b[38;5;28;01mif\u001b[39;00m file:\n\u001b[0;32m      4\u001b[0m     \u001b[38;5;28mprint\u001b[39m(\u001b[38;5;124m\"\u001b[39m\u001b[38;5;124mFile found\u001b[39m\u001b[38;5;124m\"\u001b[39m)\n",
      "File \u001b[1;32m~\\anaconda3\\Lib\\site-packages\\IPython\\core\\interactiveshell.py:324\u001b[0m, in \u001b[0;36m_modified_open\u001b[1;34m(file, *args, **kwargs)\u001b[0m\n\u001b[0;32m    317\u001b[0m \u001b[38;5;28;01mif\u001b[39;00m file \u001b[38;5;129;01min\u001b[39;00m {\u001b[38;5;241m0\u001b[39m, \u001b[38;5;241m1\u001b[39m, \u001b[38;5;241m2\u001b[39m}:\n\u001b[0;32m    318\u001b[0m     \u001b[38;5;28;01mraise\u001b[39;00m \u001b[38;5;167;01mValueError\u001b[39;00m(\n\u001b[0;32m    319\u001b[0m         \u001b[38;5;124mf\u001b[39m\u001b[38;5;124m\"\u001b[39m\u001b[38;5;124mIPython won\u001b[39m\u001b[38;5;124m'\u001b[39m\u001b[38;5;124mt let you open fd=\u001b[39m\u001b[38;5;132;01m{\u001b[39;00mfile\u001b[38;5;132;01m}\u001b[39;00m\u001b[38;5;124m by default \u001b[39m\u001b[38;5;124m\"\u001b[39m\n\u001b[0;32m    320\u001b[0m         \u001b[38;5;124m\"\u001b[39m\u001b[38;5;124mas it is likely to crash IPython. If you know what you are doing, \u001b[39m\u001b[38;5;124m\"\u001b[39m\n\u001b[0;32m    321\u001b[0m         \u001b[38;5;124m\"\u001b[39m\u001b[38;5;124myou can use builtins\u001b[39m\u001b[38;5;124m'\u001b[39m\u001b[38;5;124m open.\u001b[39m\u001b[38;5;124m\"\u001b[39m\n\u001b[0;32m    322\u001b[0m     )\n\u001b[1;32m--> 324\u001b[0m \u001b[38;5;28;01mreturn\u001b[39;00m io_open(file, \u001b[38;5;241m*\u001b[39margs, \u001b[38;5;241m*\u001b[39m\u001b[38;5;241m*\u001b[39mkwargs)\n",
      "\u001b[1;31mFileNotFoundError\u001b[0m: [Errno 2] No such file or directory: 'bhargavi.txt'"
     ]
    }
   ],
   "source": [
    "#FileNotFoundError\n",
    "file=open(\"bhargavi.txt\",'r')\n",
    "if file:\n",
    "    print(\"File found\")"
   ]
  },
  {
   "cell_type": "code",
   "execution_count": 80,
   "id": "11931936-8479-4ca1-8cd6-9aa3607be373",
   "metadata": {},
   "outputs": [
    {
     "ename": "ZeroDivisionError",
     "evalue": "division by zero",
     "output_type": "error",
     "traceback": [
      "\u001b[1;31m---------------------------------------------------------------------------\u001b[0m",
      "\u001b[1;31mZeroDivisionError\u001b[0m                         Traceback (most recent call last)",
      "Cell \u001b[1;32mIn[80], line 2\u001b[0m\n\u001b[0;32m      1\u001b[0m \u001b[38;5;66;03m#ZeroDivisionError --> trying to divide by zero\u001b[39;00m\n\u001b[1;32m----> 2\u001b[0m \u001b[38;5;28mprint\u001b[39m(\u001b[38;5;241m10\u001b[39m\u001b[38;5;241m/\u001b[39m\u001b[38;5;241m0\u001b[39m)\n",
      "\u001b[1;31mZeroDivisionError\u001b[0m: division by zero"
     ]
    }
   ],
   "source": [
    "#ZeroDivisionError --> trying to divide by zero\n",
    "print(10/0)"
   ]
  },
  {
   "cell_type": "markdown",
   "id": "d322360d-fd49-4adf-b320-4c50f430febb",
   "metadata": {},
   "source": [
    "**assert**"
   ]
  },
  {
   "cell_type": "code",
   "execution_count": 85,
   "id": "9772a933-680c-4b14-b8bb-ae6ece28f396",
   "metadata": {},
   "outputs": [
    {
     "ename": "AssertionError",
     "evalue": "a should be greator than b",
     "output_type": "error",
     "traceback": [
      "\u001b[1;31m---------------------------------------------------------------------------\u001b[0m",
      "\u001b[1;31mAssertionError\u001b[0m                            Traceback (most recent call last)",
      "Cell \u001b[1;32mIn[85], line 4\u001b[0m\n\u001b[0;32m      2\u001b[0m a\u001b[38;5;241m=\u001b[39m\u001b[38;5;241m8\u001b[39m\n\u001b[0;32m      3\u001b[0m b\u001b[38;5;241m=\u001b[39m\u001b[38;5;241m0\u001b[39m\n\u001b[1;32m----> 4\u001b[0m \u001b[38;5;28;01massert\u001b[39;00m a\u001b[38;5;241m<\u001b[39mb, \u001b[38;5;124m\"\u001b[39m\u001b[38;5;124ma should be greator than b\u001b[39m\u001b[38;5;124m\"\u001b[39m\n",
      "\u001b[1;31mAssertionError\u001b[0m: a should be greator than b"
     ]
    }
   ],
   "source": [
    "#assertion error --> it checks whether the condition is true , if not it raises aseertion error with some message\n",
    "a=8\n",
    "b=0\n",
    "assert a<b, \"a should be greator than b\""
   ]
  },
  {
   "cell_type": "code",
   "execution_count": 34,
   "id": "d8968a15-86a7-4e60-9f79-3308df483a2a",
   "metadata": {},
   "outputs": [
    {
     "name": "stdout",
     "output_type": "stream",
     "text": [
      "Code file opened\n"
     ]
    },
    {
     "name": "stdin",
     "output_type": "stream",
     "text": [
      "enter num1:  \n"
     ]
    },
    {
     "name": "stdout",
     "output_type": "stream",
     "text": [
      "Hey! It's an ValueError, so kindly check the value you entered\n",
      "Code file closed\n"
     ]
    }
   ],
   "source": [
    "try:\n",
    "    print(\"Code file opened\")\n",
    "    num1=int(input(\"enter num1: \"))\n",
    "    num2=int(input(\"enter num2: \"))\n",
    "    result=num1/num2\n",
    "except ValueError as e:\n",
    "    print(\"Hey! It's an ValueError, so kindly check the value you entered\")\n",
    "except ZeroDivisionError as e:\n",
    "    print(\"Hey! you cant divide a number by zero\")\n",
    "except Exception as e:\n",
    "    print(\"Hey! this would be somekind of error\")\n",
    "else:\n",
    "    print(\"The result is:\",result)\n",
    "finally:\n",
    "    print(\"Code file closed\")"
   ]
  },
  {
   "cell_type": "code",
   "execution_count": 64,
   "id": "3fd8d3ea-91cc-42d7-b7d2-8e4362a52792",
   "metadata": {},
   "outputs": [
    {
     "name": "stdout",
     "output_type": "stream",
     "text": [
      "Code opened\n"
     ]
    },
    {
     "name": "stdin",
     "output_type": "stream",
     "text": [
      "Enter num1: 36\n",
      "Enter num2: 8\n"
     ]
    },
    {
     "name": "stdout",
     "output_type": "stream",
     "text": [
      "the result is: 4.5\n",
      "code closed\n"
     ]
    }
   ],
   "source": [
    "def division():\n",
    "    num1=int(input(\"Enter num1:\"))\n",
    "    num2=int(input(\"Enter num2:\"))\n",
    "    if not num1/num2:\n",
    "        raise ValueError()\n",
    "        raise ZeroDivisionError()\n",
    "    return num1/num2\n",
    "try:\n",
    "    print(\"Code opened\")\n",
    "    print(\"the result is:\",division())\n",
    "except ValueError as e:\n",
    "    print(e)\n",
    "except ZeroDivisionError as e:\n",
    "    print(e)\n",
    "finally:\n",
    "    print(\"code closed\")"
   ]
  },
  {
   "cell_type": "code",
   "execution_count": null,
   "id": "9b2e464f-a52f-4d18-97cb-832ac4ba75fd",
   "metadata": {},
   "outputs": [],
   "source": []
  },
  {
   "cell_type": "code",
   "execution_count": null,
   "id": "d2a2c6de-7725-49c8-a952-c9ddd5494155",
   "metadata": {},
   "outputs": [],
   "source": []
  },
  {
   "cell_type": "code",
   "execution_count": null,
   "id": "4b5181d6-ca75-4ef9-9d24-c07cbb137647",
   "metadata": {},
   "outputs": [],
   "source": []
  },
  {
   "cell_type": "code",
   "execution_count": null,
   "id": "ca556ae9-e470-4900-af8b-b11fdf624505",
   "metadata": {},
   "outputs": [],
   "source": []
  },
  {
   "cell_type": "code",
   "execution_count": null,
   "id": "06882836-bd4a-4542-9d9d-a4d9f4d5b150",
   "metadata": {},
   "outputs": [],
   "source": []
  },
  {
   "cell_type": "code",
   "execution_count": null,
   "id": "f3617b9a-d9f5-43f6-a2b4-1ceec73808f6",
   "metadata": {},
   "outputs": [],
   "source": []
  },
  {
   "cell_type": "markdown",
   "id": "172c9c12-ef9f-4c1f-84a8-29a6539b9122",
   "metadata": {},
   "source": [
    "### ExceptionList ###"
   ]
  },
  {
   "cell_type": "markdown",
   "id": "1e717abd-0c23-47bf-bdb8-de0d835d169c",
   "metadata": {},
   "source": [
    "ExceptionError\n",
    "\n",
    "StopIterationError\n",
    "\n",
    "SystemExitError\n",
    "\n",
    "StandardError\n",
    "\n",
    "ArithmeticError\n",
    "\n",
    "OverflowError\n",
    "\n",
    "FloatingPointError\n",
    "\n",
    "AttributeError\n",
    "\n",
    "EOFError\n",
    "\n",
    "ImportError\n",
    "\n",
    "KeyboardInterruptError\n",
    "\n",
    "LookupError\n",
    "\n",
    "UnboundLocalError\n",
    "\n",
    "EnvironmentError\n",
    "\n",
    "IOError\n"
   ]
  }
 ],
 "metadata": {
  "kernelspec": {
   "display_name": "Python 3 (ipykernel)",
   "language": "python",
   "name": "python3"
  },
  "language_info": {
   "codemirror_mode": {
    "name": "ipython",
    "version": 3
   },
   "file_extension": ".py",
   "mimetype": "text/x-python",
   "name": "python",
   "nbconvert_exporter": "python",
   "pygments_lexer": "ipython3",
   "version": "3.12.4"
  }
 },
 "nbformat": 4,
 "nbformat_minor": 5
}
