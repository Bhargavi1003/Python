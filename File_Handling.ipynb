{
 "cells": [
  {
   "cell_type": "markdown",
   "id": "994f351a-10d2-4c8a-875c-f7311b0f707f",
   "metadata": {},
   "source": [
    "**File Handling**"
   ]
  },
  {
   "cell_type": "markdown",
   "id": "7552161d-82cf-4b92-b074-efece767abb6",
   "metadata": {},
   "source": [
    "**Open file**"
   ]
  },
  {
   "cell_type": "code",
   "execution_count": 7,
   "id": "52b676bc-9f56-46fd-a106-500d0fd59056",
   "metadata": {},
   "outputs": [
    {
     "name": "stdout",
     "output_type": "stream",
     "text": [
      "file opened succesfully\n"
     ]
    }
   ],
   "source": [
    "#open() - open existing file\n",
    "file = open(\"File.txt\",'r')\n",
    "if file:\n",
    "    print(\"file opened succesfully\")"
   ]
  },
  {
   "cell_type": "markdown",
   "id": "8eb8c6c9-4961-4d6f-b1e5-4ce501bbf71a",
   "metadata": {},
   "source": [
    "**writing file**"
   ]
  },
  {
   "cell_type": "code",
   "execution_count": 13,
   "id": "05428be4-0f55-4fa0-be68-713c3629638d",
   "metadata": {},
   "outputs": [],
   "source": [
    "#write using with statement\n",
    "with open(\"File.txt\",'w') as file:\n",
    "    file.write(\"Hello Bhargavi!!!........How  do you do?\")"
   ]
  },
  {
   "cell_type": "markdown",
   "id": "10113173-407c-4f88-99c2-a928d5ff35ea",
   "metadata": {},
   "source": [
    "**reading file**"
   ]
  },
  {
   "cell_type": "code",
   "execution_count": 17,
   "id": "8494f124-1625-4b71-9be4-c6fbba0dbc4b",
   "metadata": {},
   "outputs": [
    {
     "name": "stdout",
     "output_type": "stream",
     "text": [
      "Hello Bhargavi!!!........How  do you do?\n"
     ]
    }
   ],
   "source": [
    "#read() - can read and return file\n",
    "with open(\"File.txt\",'r') as f:\n",
    "    content=f.read()\n",
    "    print(content)"
   ]
  },
  {
   "cell_type": "markdown",
   "id": "d8662dd0-6b75-4270-b34f-5f40df5b046f",
   "metadata": {},
   "source": [
    "**closing file**"
   ]
  },
  {
   "cell_type": "code",
   "execution_count": 19,
   "id": "ec93aaea-4236-4d9f-8844-77b44053d061",
   "metadata": {},
   "outputs": [],
   "source": [
    "file.close()"
   ]
  },
  {
   "cell_type": "markdown",
   "id": "53ff5cd8-fcf2-46f7-8f02-96b17d62418b",
   "metadata": {},
   "source": [
    "**Opening file at different location**"
   ]
  },
  {
   "cell_type": "code",
   "execution_count": 32,
   "id": "5026a427-fded-4f3f-9993-c7136b8265a1",
   "metadata": {},
   "outputs": [
    {
     "name": "stdout",
     "output_type": "stream",
     "text": [
      "okay\n"
     ]
    }
   ],
   "source": [
    "file=open(r\"C:\\Users\\bharg\\OneDrive\\Desktop\\File.txt\")\n",
    "if file:\n",
    "    print(\"okay\")"
   ]
  },
  {
   "cell_type": "code",
   "execution_count": 35,
   "id": "085ff292-49fe-4e77-be4b-d5d6c9338318",
   "metadata": {},
   "outputs": [],
   "source": [
    "file.close()"
   ]
  },
  {
   "cell_type": "code",
   "execution_count": 37,
   "id": "f383c331-61d8-47b1-a1f2-aec743be5b18",
   "metadata": {},
   "outputs": [],
   "source": [
    "file = open(\"File.txt\",'w')\n",
    "file.write(\"Python is  a simple language, it is fastest growing language\")\n",
    "file.close()"
   ]
  },
  {
   "cell_type": "code",
   "execution_count": 39,
   "id": "f99c2884-324b-4c0c-b95d-dd3b3738ce7b",
   "metadata": {},
   "outputs": [
    {
     "name": "stdout",
     "output_type": "stream",
     "text": [
      "Python is  a simple language, it is fastest growing language\n"
     ]
    }
   ],
   "source": [
    "file=open(\"File.txt\",'r')\n",
    "content=file.read()\n",
    "print(content)"
   ]
  },
  {
   "cell_type": "markdown",
   "id": "e38371fa-5fd9-4df1-a728-10676e5a4c96",
   "metadata": {},
   "source": [
    "**append into file**"
   ]
  },
  {
   "cell_type": "code",
   "execution_count": 45,
   "id": "3716680f-724c-42aa-9a34-a27911b5d550",
   "metadata": {},
   "outputs": [],
   "source": [
    "file=open(\"File.txt\",'a')\n",
    "file.write(\". Python was portable language.\")\n",
    "file.close()"
   ]
  },
  {
   "cell_type": "code",
   "execution_count": 49,
   "id": "193960ac-d4c1-4611-aeaa-374d66d59cb2",
   "metadata": {},
   "outputs": [
    {
     "name": "stdout",
     "output_type": "stream",
     "text": [
      "Python is  a simple language, it is fastest growing language. Python was portable language.\n"
     ]
    }
   ],
   "source": [
    "file=open(\"File.txt\",'r')\n",
    "content=file.read()\n",
    "print(content)\n",
    "file.close()"
   ]
  },
  {
   "cell_type": "code",
   "execution_count": 51,
   "id": "184fde5f-75fa-468d-b2a9-aad2d8491695",
   "metadata": {},
   "outputs": [
    {
     "name": "stdout",
     "output_type": "stream",
     "text": [
      "Python is  a si\n",
      "<class 'str'>\n"
     ]
    }
   ],
   "source": [
    "file=open(\"File.txt\",'r')\n",
    "content=file.read(15)\n",
    "print(content)\n",
    "print(type(content))\n",
    "file.close()"
   ]
  },
  {
   "cell_type": "markdown",
   "id": "86f85778-d8b8-49a9-be3d-0e2ca02a8014",
   "metadata": {},
   "source": [
    "**readline() - return single lines**"
   ]
  },
  {
   "cell_type": "code",
   "execution_count": 63,
   "id": "78970133-6965-4c7f-8ec7-17f676569284",
   "metadata": {},
   "outputs": [
    {
     "name": "stdout",
     "output_type": "stream",
     "text": [
      "Python is  a simple language.\n",
      "\n",
      "it is fastest growing language.\n",
      "\n"
     ]
    }
   ],
   "source": [
    "file=open(\"File.txt\",'r')\n",
    "content1=file.readline()\n",
    "content2=file.readline()\n",
    "print(content1)\n",
    "print(content2)\n",
    "file.close()"
   ]
  },
  {
   "cell_type": "markdown",
   "id": "a97ffad3-9b3a-4365-859f-16fc3de6fc88",
   "metadata": {},
   "source": [
    "**readlines() - read multiple lines**"
   ]
  },
  {
   "cell_type": "code",
   "execution_count": 67,
   "id": "2ea44f73-ccb1-4fed-b957-1489d13a165d",
   "metadata": {},
   "outputs": [
    {
     "name": "stdout",
     "output_type": "stream",
     "text": [
      "['Python is  a simple language.\\n', 'it is fastest growing language.\\n', 'Python was portable language.']\n"
     ]
    }
   ],
   "source": [
    "file=open(\"File.txt\",'r')\n",
    "content=file.readlines()\n",
    "print(content)\n",
    "file.close()"
   ]
  },
  {
   "cell_type": "markdown",
   "id": "7bca2932-0ec1-48a7-9edc-506a91f2cb0b",
   "metadata": {},
   "source": [
    "**creating new file**"
   ]
  },
  {
   "cell_type": "code",
   "execution_count": 70,
   "id": "2bb07a20-d18a-4696-8c11-581f1b1f0260",
   "metadata": {},
   "outputs": [
    {
     "name": "stdout",
     "output_type": "stream",
     "text": [
      "Example.txt has created\n"
     ]
    }
   ],
   "source": [
    "file_name=\"Example.txt\"\n",
    "with open(file_name,'w') as file:\n",
    "    file.write(\"This is creation of new file\")\n",
    "print(f\"{file_name} has created\")\n",
    "file.close()"
   ]
  },
  {
   "cell_type": "code",
   "execution_count": null,
   "id": "0f303e6a-1838-4220-bfdc-23e2cd180046",
   "metadata": {},
   "outputs": [],
   "source": []
  },
  {
   "cell_type": "code",
   "execution_count": null,
   "id": "a59f35d7-0cc8-49f5-ae3b-c21ca0fc7d8d",
   "metadata": {},
   "outputs": [],
   "source": []
  }
 ],
 "metadata": {
  "kernelspec": {
   "display_name": "Python 3 (ipykernel)",
   "language": "python",
   "name": "python3"
  },
  "language_info": {
   "codemirror_mode": {
    "name": "ipython",
    "version": 3
   },
   "file_extension": ".py",
   "mimetype": "text/x-python",
   "name": "python",
   "nbconvert_exporter": "python",
   "pygments_lexer": "ipython3",
   "version": "3.12.4"
  }
 },
 "nbformat": 4,
 "nbformat_minor": 5
}
