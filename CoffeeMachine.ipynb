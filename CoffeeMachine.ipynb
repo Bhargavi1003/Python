{
 "cells": [
  {
   "cell_type": "code",
   "execution_count": 11,
   "id": "2321d28a-1177-4c8d-a9ea-f8e2feff23d1",
   "metadata": {},
   "outputs": [
    {
     "name": "stdout",
     "output_type": "stream",
     "text": [
      "                                                                     WELCOME                                                                     \n",
      "                                             --------------------------------------------------------                                            \n",
      "                                                       Would you like grab some coffee?????                                                      \n",
      " MENU\n",
      "-------\n",
      "1.Cappuccino\n",
      "2.Espresso\n",
      "3.Latte\n",
      "4.Macchiato\n"
     ]
    },
    {
     "name": "stdin",
     "output_type": "stream",
     "text": [
      "Hello...Choose Your Coffee: 3\n"
     ]
    },
    {
     "name": "stdout",
     "output_type": "stream",
     "text": [
      "The price of Latte is Rs.270/-\n"
     ]
    },
    {
     "name": "stdin",
     "output_type": "stream",
     "text": [
      "Insert the cash: 1530\n"
     ]
    },
    {
     "name": "stdout",
     "output_type": "stream",
     "text": [
      "Here your coffee, Have a great day!\n",
      "Your remaining balance 1260\n",
      "Thank You visit again\n"
     ]
    }
   ],
   "source": [
    "class CoffeeMachine:\n",
    "    def __init__(self,Cappuccino,Espresso,Latte,Macchiato):\n",
    "        self.Cappuccino=Cappuccino\n",
    "        self.Espresso=Espresso\n",
    "        self.Latte=Latte\n",
    "        self.Macchiato=Macchiato\n",
    "    def menu(self):\n",
    "        print(\"WELCOME\".center(145))\n",
    "        print(\"--------------------------------------------------------\".center(145))\n",
    "        print(\"Would you like grab some coffee?????\".center(145))\n",
    "        print(\"MENU\".rjust(5))\n",
    "        print(\"-------\")\n",
    "        print(\"1.Cappuccino\\n2.Espresso\\n3.Latte\\n4.Macchiato\")\n",
    "        choice = int(input(\"Hello...Choose Your Coffee:\"))\n",
    "        \n",
    "        if choice==1:\n",
    "            print(\"The price of Cappuccino is Rs.250/-\")\n",
    "            cash=int(input(\"Insert the cash:\"))\n",
    "            if cash > self.Cappuccino:\n",
    "                print(\"Here your coffee, Have a great day!\")\n",
    "                print(f\"Your remaining balance {cash-self.Cappicunno}\")\n",
    "                print(\"Thank You visit again\")\n",
    "            elif cash < self.Cappuccino:\n",
    "                print(\"Oops!! You have inserted less cash than price. Check again\")\n",
    "            else:\n",
    "                print(\"Here Your coffee, Have a nice day!\")\n",
    "                print(\"Thank you visit again\")\n",
    "        elif choice==2:\n",
    "            print(\"The price of Espresso is Rs.300/-\")\n",
    "            cash=int(input(\"Insert the cash:\"))\n",
    "            if cash > self.Espresso:\n",
    "                print(\"Here your coffee, Have a great day!\")\n",
    "                print(f\"Your remaining balance {cash-self.Espresso}\")\n",
    "                print(\"Thank You visit again\")\n",
    "            elif cash < self.Espresso:\n",
    "                print(\"Oops!! You have inserted less cash than price. Check again\")\n",
    "            else:\n",
    "                print(\"Here Your coffee, Have a nice day!\")\n",
    "                print(\"Thank you visit again\")\n",
    "        elif choice==3:\n",
    "            print(\"The price of Latte is Rs.270/-\")\n",
    "            cash=int(input(\"Insert the cash:\"))\n",
    "            if cash > self.Latte:\n",
    "                print(\"Here your coffee, Have a great day!\")\n",
    "                print(f\"Your remaining balance {cash-self.Latte}\")\n",
    "                print(\"Thank You visit again\")\n",
    "            elif cash < self.Latte:\n",
    "                print(\"Oops!! You have inserted less cash than price. Check again\")\n",
    "            else:\n",
    "                print(\"Here Your coffee, Have a nice day!\")\n",
    "                print(\"Thank you visit again\")\n",
    "        else:\n",
    "            print(\"The price of Macchiato is Rs.350/-\")\n",
    "            cash=int(input(\"Insert the cash:\"))\n",
    "            if cash > self.Macchiato:\n",
    "                print(\"Here your coffee, Have a great day!\")\n",
    "                print(f\"Your remaining balance {cash-self.Macchiato}\")\n",
    "                print(\"Thank You visit again\")\n",
    "            elif cash < self.Macchiato:\n",
    "                print(\"Oops!! You have inserted less cash than price. Check again\")\n",
    "            else:\n",
    "                print(\"Here Your coffee, Have a nice day!\")\n",
    "                print(\"Thank you visit again\")\n",
    "            \n",
    "        \n",
    "        \n",
    "obj = CoffeeMachine(250,300,270,350)\n",
    "obj.menu()"
   ]
  },
  {
   "cell_type": "code",
   "execution_count": null,
   "id": "6534df7f-c996-4f46-b2f2-2fdc5d6a8f4c",
   "metadata": {},
   "outputs": [
    {
     "name": "stdout",
     "output_type": "stream",
     "text": [
      "                                                                     WELCOME                                                                     \n",
      "                                             --------------------------------------------------------                                            \n",
      "                                                     Would you like to grab some coffee?????                                                     \n",
      " MENU\n",
      "                                                                     -------                                                                     \n",
      "1. Cappuccino\n",
      "2. Espresso\n",
      "3. Latte\n",
      "4. Macchiato\n"
     ]
    }
   ],
   "source": [
    "class CoffeeMachine:\n",
    "    def __init__(self):\n",
    "        self.Cappuccino = 250\n",
    "        self.Espresso = 300\n",
    "        self.Latte = 270\n",
    "        self.Macchiato = 350\n",
    "    def cappuccino(self):\n",
    "        print(\"The price of Cappuccino is Rs.250/-\")\n",
    "        cash = int(input(\"Insert the cash: \"))\n",
    "        if cash > self.Cappuccino:\n",
    "            print(\"Here is your coffee, Have a great day!\")\n",
    "            print(f\"Your remaining balance is {cash - self.Cappuccino}\")\n",
    "            print(\"Thank You, visit again\")\n",
    "        elif cash < self.Cappuccino:\n",
    "            print(\"Oops!! You have inserted less cash than the price. Check again\")\n",
    "        else:\n",
    "            print(\"Here is your coffee, Have a nice day!\")\n",
    "            print(\"Thank you, visit again\")\n",
    "    def espresso(self):\n",
    "        print(\"The price of Espresso is Rs.300/-\")\n",
    "        cash = int(input(\"Insert the cash: \"))\n",
    "        if cash > self.Cappuccino:\n",
    "            print(\"Here is your coffee, Have a great day!\")\n",
    "            print(f\"Your remaining balance is {cash - self.Cappuccino}\")\n",
    "            print(\"Thank You, visit again\")\n",
    "        elif cash < self.Cappuccino:\n",
    "            print(\"Oops!! You have inserted less cash than the price. Check again\")\n",
    "        else:\n",
    "            print(\"Here is your coffee, Have a nice day!\")\n",
    "            print(\"Thank you, visit again\")\n",
    "    def latte(self):\n",
    "        print(\"The price of Latte is Rs.270/-\")\n",
    "        cash = int(input(\"Insert the cash: \"))\n",
    "        if cash > self.Cappuccino:\n",
    "            print(\"Here is your coffee, Have a great day!\")\n",
    "            print(f\"Your remaining balance is {cash - self.Cappuccino}\")\n",
    "            print(\"Thank You, visit again\")\n",
    "        elif cash < self.Cappuccino:\n",
    "            print(\"Oops!! You have inserted less cash than the price. Check again\")\n",
    "        else:\n",
    "            print(\"Here is your coffee, Have a nice day!\")\n",
    "            print(\"Thank you, visit again\")\n",
    "    def macchiato(self):\n",
    "        print(\"The price of Macchiato is Rs.350/-\")\n",
    "        cash = int(input(\"Insert the cash: \"))\n",
    "        if cash > self.Cappuccino:\n",
    "            print(\"Here is your coffee, Have a great day!\")\n",
    "            print(f\"Your remaining balance is {cash - self.Cappuccino}\")\n",
    "            print(\"Thank You, visit again\")\n",
    "        elif cash < self.Cappuccino:\n",
    "            print(\"Oops!! You have inserted less cash than the price. Check again\")\n",
    "        else:\n",
    "            print(\"Here is your coffee, Have a nice day!\")\n",
    "            print(\"Thank you, visit again\")\n",
    "    \n",
    "    def menu(self):\n",
    "        print(\"WELCOME\".center(145))\n",
    "        print(\"--------------------------------------------------------\".center(145))\n",
    "        print(\"Would you like to grab some coffee?????\".center(145))\n",
    "        print(\"MENU\".rjust(5))\n",
    "        print(\"-------\".center(145))\n",
    "        print(\"1. Cappuccino\\n2. Espresso\\n3. Latte\\n4. Macchiato\")\n",
    "        choice = int(input(\"Hello... Choose Your Coffee: \"))\n",
    "\n",
    "        if choice == 1:\n",
    "            self.cappuccino()\n",
    "        elif choice == 2:\n",
    "            self.espresso()\n",
    "        elif choice == 3:\n",
    "            self.latte()\n",
    "        else:\n",
    "            self.macchiato()\n",
    "\n",
    "obj=CoffeeMachine()\n",
    "obj.menu()"
   ]
  }
 ],
 "metadata": {
  "kernelspec": {
   "display_name": "Python 3 (ipykernel)",
   "language": "python",
   "name": "python3"
  },
  "language_info": {
   "codemirror_mode": {
    "name": "ipython",
    "version": 3
   },
   "file_extension": ".py",
   "mimetype": "text/x-python",
   "name": "python",
   "nbconvert_exporter": "python",
   "pygments_lexer": "ipython3",
   "version": "3.12.4"
  }
 },
 "nbformat": 4,
 "nbformat_minor": 5
}
