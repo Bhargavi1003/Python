{
 "cells": [
  {
   "cell_type": "markdown",
   "id": "4c19e021-5125-44ed-bfa7-2f97d846880c",
   "metadata": {},
   "source": [
    "### Inheritance ###"
   ]
  },
  {
   "cell_type": "code",
   "execution_count": 1,
   "id": "ad21fbe7-4c67-431b-bdb7-e4aa83d57ef1",
   "metadata": {},
   "outputs": [],
   "source": [
    "#SINGLE Inhertitance"
   ]
  },
  {
   "cell_type": "code",
   "execution_count": 6,
   "id": "2a8ecfdc-a35a-4740-9514-4d7ac765912e",
   "metadata": {},
   "outputs": [
    {
     "name": "stdout",
     "output_type": "stream",
     "text": [
      "I am Bhargavi\n",
      "I have 2 eyes\n",
      "I have 1 nose\n",
      "I have 1 heart\n",
      "I can cook\n",
      "I can work\n",
      "I can Code\n",
      "I can speak\n",
      "I am Bhargavi. I have 2 eyes. I have 1 nose. I have 1 heart\n"
     ]
    }
   ],
   "source": [
    "class Human: #parent class\n",
    "    def __init__(self,num_hearts): #parent class attributes\n",
    "        self.num_eyes=2\n",
    "        self.num_nose=1\n",
    "        self.num_hearts=num_hearts\n",
    "    def speak(self): #parent class methods\n",
    "        print(\"I can speak\")\n",
    "    def work(self):\n",
    "        print(\"I can work\")\n",
    "class Female(Human): #child class and inherited parent class\n",
    "    def __init__(self,name,num_heart): #child class attributes\n",
    "        self.name=name\n",
    "        super().__init__(num_heart) #parent class attributes inheritance\n",
    "    def cook(self): #child class method\n",
    "        print(\"I can cook\")\n",
    "    def work(self): #same method as parent class but with different implementation/functionality \n",
    "        super().work()\n",
    "        print(\"I can Code\")\n",
    "    def display(self):\n",
    "        print(f\"I am {self.name}. I have {self.num_eyes} eyes. I have {self.num_nose} nose. I have {self.num_hearts} heart\")\n",
    "female_1=Female(\"Bhargavi\",1)\n",
    "print(\"I am\",female_1.name)\n",
    "print(\"I have\",female_1.num_eyes,\"eyes\")\n",
    "print(\"I have\",female_1.num_nose,\"nose\")\n",
    "print(\"I have\",female_1.num_hearts,\"heart\")\n",
    "female_1.cook()\n",
    "female_1.work()\n",
    "female_1.speak()\n",
    "female_1.display()"
   ]
  },
  {
   "cell_type": "code",
   "execution_count": 3,
   "id": "f62c185f-2c9d-46d1-a60b-72d5b4fc78ac",
   "metadata": {},
   "outputs": [],
   "source": [
    "#MULTIPLE inheritance"
   ]
  },
  {
   "cell_type": "code",
   "execution_count": 5,
   "id": "becfcf38-df5b-41c8-b391-d1ff14559ad1",
   "metadata": {},
   "outputs": [
    {
     "name": "stdout",
     "output_type": "stream",
     "text": [
      "I can eat\n",
      "I can work\n",
      "I can flirt\n"
     ]
    }
   ],
   "source": [
    "class Human:\n",
    "    def eat(self):\n",
    "        print(\"I can eat\")\n",
    "    def work(self):\n",
    "        print(\"I can work\")\n",
    "class Male:\n",
    "    def flirt(self):\n",
    "        print(\"I can flirt\")\n",
    "class Boy(Human,Male):\n",
    "    pass\n",
    "boy1=Boy()\n",
    "boy1.eat()\n",
    "boy1.work()\n",
    "boy1.flirt()"
   ]
  },
  {
   "cell_type": "code",
   "execution_count": 9,
   "id": "f53c8bc3-28ee-4082-b32e-3b3568d157fc",
   "metadata": {},
   "outputs": [
    {
     "name": "stdout",
     "output_type": "stream",
     "text": [
      "I can work\n"
     ]
    }
   ],
   "source": [
    "#what if both parent classes have same methods but with different functionality ? \n",
    "class Human:\n",
    "    def eat(self):\n",
    "        print(\"I can eat\")\n",
    "    def work(self):\n",
    "        print(\"I can work\")\n",
    "class Male:\n",
    "    def flirt(self):\n",
    "        print(\"I can flirt\")\n",
    "    def work(self):\n",
    "        print(\"I can code\")\n",
    "class Boy(Human,Male):\n",
    "    pass\n",
    "boy1=Boy()\n",
    "boy1.work() #Here the work() from Human class will be accessed because of \"mro()\"[method resolution order] like priority of methods"
   ]
  },
  {
   "cell_type": "code",
   "execution_count": 11,
   "id": "96691eac-9eaa-4637-a05c-f13d5c433a6a",
   "metadata": {},
   "outputs": [
    {
     "name": "stdout",
     "output_type": "stream",
     "text": [
      "I can work\n",
      "I can code\n"
     ]
    }
   ],
   "source": [
    "#so to overcome above problem and ti print same methods from both parent classes --> [class_name.method_name(object_name)]\n",
    "class Human:\n",
    "    def eat(self):\n",
    "        print(\"I can eat\")\n",
    "    def work(self):\n",
    "        print(\"I can work\")\n",
    "class Male:\n",
    "    def flirt(self):\n",
    "        print(\"I can flirt\")\n",
    "    def work(self):\n",
    "        print(\"I can code\")\n",
    "class Boy(Human,Male):\n",
    "    pass\n",
    "boy1=Boy()\n",
    "boy1.work()\n",
    "Male.work(boy1)"
   ]
  },
  {
   "cell_type": "code",
   "execution_count": 17,
   "id": "3d9f29ba-1649-4594-a895-444678fdee6b",
   "metadata": {},
   "outputs": [
    {
     "name": "stdout",
     "output_type": "stream",
     "text": [
      "I can  test\n",
      "[<class '__main__.Boy'>, <class '__main__.Human'>, <class '__main__.Male'>, <class 'object'>]\n"
     ]
    }
   ],
   "source": [
    "#if child class also consists same method name , see which method from which class will be executed.......\n",
    "class Human:\n",
    "    def eat(self):\n",
    "        print(\"I can eat\")\n",
    "    def work(self):\n",
    "        print(\"I can work\")\n",
    "class Male:\n",
    "    def flirt(self):\n",
    "        print(\"I can flirt\")\n",
    "    def work(self):\n",
    "        print(\"I can code\")\n",
    "class Boy(Human,Male):\n",
    "    def work(self):\n",
    "        print(\"I can  test\")\n",
    "boy1=Boy()\n",
    "boy1.work() #the work() from child class will be printed\n",
    "#priority of methods was child class, first class in order at inheritance and so on.....\n",
    "#use \"mro()\" to check above priorities based on class\n",
    "print(Boy.mro())"
   ]
  },
  {
   "cell_type": "code",
   "execution_count": 21,
   "id": "00e3f841-3a40-492f-9053-d6d5da3a42c2",
   "metadata": {},
   "outputs": [
    {
     "name": "stdout",
     "output_type": "stream",
     "text": [
      "I can code\n"
     ]
    }
   ],
   "source": [
    "#what if work() from all class will be deleted except parent-2 class [Male], see......\n",
    "class Human:\n",
    "    def eat(self):\n",
    "        print(\"I can eat\")\n",
    "class Male:\n",
    "    def flirt(self):\n",
    "        print(\"I can flirt\")\n",
    "    def work(self):\n",
    "        print(\"I can code\")\n",
    "class Boy(Human,Male):\n",
    "    pass\n",
    "boy1=Boy()\n",
    "boy1.work() #the Male class method was printed"
   ]
  },
  {
   "cell_type": "code",
   "execution_count": 23,
   "id": "88e78a9f-3faa-433c-bcde-ff9a9dd8aa83",
   "metadata": {},
   "outputs": [
    {
     "name": "stdout",
     "output_type": "stream",
     "text": [
      "I can test\n",
      "I can work\n",
      "I can code\n"
     ]
    }
   ],
   "source": [
    "#the child class can also have its won methods\n",
    "class Human:\n",
    "    def eat(self):\n",
    "        print(\"I can eat\")\n",
    "    def work(self):\n",
    "        print(\"I can work\")\n",
    "class Male:\n",
    "    def flirt(self):\n",
    "        print(\"I can flirt\")\n",
    "    def work(self):\n",
    "        print(\"I can code\")\n",
    "class Boy(Human,Male):\n",
    "    def sleep(self):\n",
    "        print(\"I can sleep\")\n",
    "    def work(self):\n",
    "        print(\"I can test\")\n",
    "boy1=Boy()\n",
    "boy1.work()\n",
    "Human.work(boy1)\n",
    "Male.work(boy1)"
   ]
  },
  {
   "cell_type": "code",
   "execution_count": 33,
   "id": "9df4a547-17f3-4e95-8c88-51a4592865a4",
   "metadata": {},
   "outputs": [
    {
     "name": "stdout",
     "output_type": "stream",
     "text": [
      "I can test\n",
      "I can work\n",
      "I can code\n",
      "I have 2 eyes\n"
     ]
    },
    {
     "ename": "AttributeError",
     "evalue": "'Boy' object has no attribute 'name'",
     "output_type": "error",
     "traceback": [
      "\u001b[1;31m---------------------------------------------------------------------------\u001b[0m",
      "\u001b[1;31mAttributeError\u001b[0m                            Traceback (most recent call last)",
      "Cell \u001b[1;32mIn[33], line 27\u001b[0m\n\u001b[0;32m     25\u001b[0m Male\u001b[38;5;241m.\u001b[39mwork(boy1)\n\u001b[0;32m     26\u001b[0m \u001b[38;5;28mprint\u001b[39m( \u001b[38;5;124mf\u001b[39m\u001b[38;5;124m\"\u001b[39m\u001b[38;5;124mI have \u001b[39m\u001b[38;5;132;01m{\u001b[39;00mboy1\u001b[38;5;241m.\u001b[39mnum_eyes\u001b[38;5;132;01m}\u001b[39;00m\u001b[38;5;124m eyes\u001b[39m\u001b[38;5;124m\"\u001b[39m) \u001b[38;5;66;03m#try to access parent-1 class attributes --> output will be printed\u001b[39;00m\n\u001b[1;32m---> 27\u001b[0m \u001b[38;5;28mprint\u001b[39m(boy1\u001b[38;5;241m.\u001b[39mname)\n",
      "\u001b[1;31mAttributeError\u001b[0m: 'Boy' object has no attribute 'name'"
     ]
    }
   ],
   "source": [
    "#every class has its own attributes\n",
    "class Human:\n",
    "    def __init__(self):\n",
    "        self.num_eyes=2\n",
    "        self.num_nose=1\n",
    "    def eat(self):\n",
    "        print(\"I can eat\")\n",
    "    def work(self):\n",
    "        print(\"I can work\")\n",
    "class Male:\n",
    "    def __init__(self,name):\n",
    "            self.name=name\n",
    "    def flirt(self):\n",
    "        print(\"I can flirt\")\n",
    "    def work(self):\n",
    "        print(\"I can code\")\n",
    "class Boy(Human,Male):\n",
    "    def sleep(self):\n",
    "        print(\"I can sleep\")\n",
    "    def work(self):\n",
    "        print(\"I can test\")\n",
    "boy1=Boy()\n",
    "boy1.work()\n",
    "Human.work(boy1)\n",
    "Male.work(boy1)\n",
    "print( f\"I have {boy1.num_eyes} eyes\") #try to access parent-1 class attributes --> output will be printed\n",
    "print(boy1.name)#try to access attributes of parent-2 class --> error will be generated , bacause the compiler will get confused to call which __init__() so that based on mro() it calls [[arent-1 class attributes only"
   ]
  },
  {
   "cell_type": "code",
   "execution_count": 43,
   "id": "b4fdb84b-0fb6-4178-90f1-5593a5faa3f7",
   "metadata": {},
   "outputs": [
    {
     "name": "stdout",
     "output_type": "stream",
     "text": [
      "I can test\n",
      "I can work\n",
      "I can code\n"
     ]
    },
    {
     "ename": "NameError",
     "evalue": "name 'self' is not defined",
     "output_type": "error",
     "traceback": [
      "\u001b[1;31m---------------------------------------------------------------------------\u001b[0m",
      "\u001b[1;31mNameError\u001b[0m                                 Traceback (most recent call last)",
      "Cell \u001b[1;32mIn[43], line 29\u001b[0m\n\u001b[0;32m     27\u001b[0m Human\u001b[38;5;241m.\u001b[39mwork(boy1)\n\u001b[0;32m     28\u001b[0m Male\u001b[38;5;241m.\u001b[39mwork(boy1)\n\u001b[1;32m---> 29\u001b[0m \u001b[38;5;28mprint\u001b[39m(\u001b[38;5;124mf\u001b[39m\u001b[38;5;124m\"\u001b[39m\u001b[38;5;124mI am \u001b[39m\u001b[38;5;132;01m{\u001b[39;00m\u001b[38;5;28mself\u001b[39m\u001b[38;5;241m.\u001b[39mname\u001b[38;5;132;01m}\u001b[39;00m\u001b[38;5;124m\"\u001b[39m)\n\u001b[0;32m     30\u001b[0m \u001b[38;5;28mprint\u001b[39m(\u001b[38;5;124mf\u001b[39m\u001b[38;5;124m\"\u001b[39m\u001b[38;5;124mI have \u001b[39m\u001b[38;5;132;01m{\u001b[39;00mboy1\u001b[38;5;241m.\u001b[39mnum_eyes\u001b[38;5;132;01m}\u001b[39;00m\u001b[38;5;124m eyes\u001b[39m\u001b[38;5;124m\"\u001b[39m)\n",
      "\u001b[1;31mNameError\u001b[0m: name 'self' is not defined"
     ]
    }
   ],
   "source": [
    "#What if we want both __init__() constructors from both paret classes ?\n",
    "#Here we call that constructor using its class name in child class __init__() function\n",
    "class Human:\n",
    "    def __init__(self):\n",
    "        self.num_eyes=2\n",
    "        self.num_nose=1\n",
    "    def eat(self):\n",
    "        print(\"I can eat\")\n",
    "    def work(self):\n",
    "        print(\"I can work\")\n",
    "class Male:\n",
    "    def __init__(self,name):\n",
    "            self.name=name\n",
    "    def flirt(self):\n",
    "        print(\"I can flirt\")\n",
    "    def work(self):\n",
    "        print(\"I can code\")\n",
    "class Boy(Human,Male):\n",
    "    def __init__(self,name):\n",
    "        Male.__init__(self,name)\n",
    "    def sleep(self):\n",
    "        print(\"I can sleep\")\n",
    "    def work(self):\n",
    "        print(\"I can test\")\n",
    "boy1=Boy(\"Priyanka\")\n",
    "boy1.work()\n",
    "Human.work(boy1)\n",
    "Male.work(boy1)\n",
    "print(f\"I am {self.name}\")\n",
    "print(f\"I have {boy1.num_eyes} eyes\")\n",
    "#this code will generate error because now parent-1 class attributes cannot be accessed"
   ]
  },
  {
   "cell_type": "code",
   "execution_count": 49,
   "id": "2cc90b61-0dba-44fb-8a0f-510f1103596c",
   "metadata": {},
   "outputs": [
    {
     "name": "stdout",
     "output_type": "stream",
     "text": [
      "calling __init__ from Human\n",
      "calling __init__ from Male\n",
      "I can test\n",
      "I can work\n",
      "I can code\n",
      "I have 2 eyes\n"
     ]
    }
   ],
   "source": [
    "#so we need to call both parent classes constructors \n",
    "#What if we want both __init__() constructors from both paret classes ?\n",
    "#Here we call that constructor using its class name in child class __init__() function\n",
    "class Human:\n",
    "    def __init__(self):\n",
    "        self.num_eyes=2\n",
    "        self.num_nose=1\n",
    "        print(\"calling __init__ from Human\")\n",
    "    def eat(self):\n",
    "        print(\"I can eat\")\n",
    "    def work(self):\n",
    "        print(\"I can work\")\n",
    "class Male:\n",
    "    def __init__(self,name):\n",
    "        self.name=name\n",
    "        print(\"calling __init__ from Male\")\n",
    "    def flirt(self):\n",
    "        print(\"I can flirt\")\n",
    "    def work(self):\n",
    "        print(\"I can code\")\n",
    "class Boy(Human,Male):\n",
    "    def __init__(self,name):\n",
    "        Human.__init__(self)\n",
    "        Male.__init__(self,name)\n",
    "    def sleep(self):\n",
    "        print(\"I can sleep\")\n",
    "    def work(self):\n",
    "        print(\"I can test\")\n",
    "boy1=Boy(\"Priyanka\")\n",
    "boy1.work()\n",
    "Human.work(boy1)\n",
    "Male.work(boy1)\n",
    "print(f\"I have {boy1.num_eyes} eyes\")"
   ]
  },
  {
   "cell_type": "code",
   "execution_count": 61,
   "id": "9d8c2c0d-8104-48d2-a82d-c6eac64b0323",
   "metadata": {},
   "outputs": [
    {
     "name": "stdout",
     "output_type": "stream",
     "text": [
      "calling __init__ from Human\n",
      "calling __init__ from Male\n",
      "I can test\n",
      "I can work\n",
      "I can code\n",
      "I have 2 eyes\n",
      "I have 1 heart\n",
      "I am Priyanka\n",
      "I teach python\n"
     ]
    }
   ],
   "source": [
    "#If child class has its own attributes\n",
    "class Human:\n",
    "    def __init__(self,num_hearts):\n",
    "        self.num_eyes=2\n",
    "        self.num_nose=1\n",
    "        self.num_hearts=num_hearts\n",
    "        print(\"calling __init__ from Human\")\n",
    "    def eat(self):\n",
    "        print(\"I can eat\")\n",
    "    def work(self):\n",
    "        print(\"I can work\")\n",
    "class Male:\n",
    "    def __init__(self,name):\n",
    "        self.name=name\n",
    "        print(\"calling __init__ from Male\")\n",
    "    def flirt(self):\n",
    "        print(\"I can flirt\")\n",
    "    def work(self):\n",
    "        print(\"I can code\")\n",
    "class Boy(Human,Male):\n",
    "    def __init__(self,name,num_hearts,language):\n",
    "        Human.__init__(self,num_hearts)\n",
    "        Male.__init__(self,name)\n",
    "        self.language=language\n",
    "    def sleep(self):\n",
    "        print(\"I can sleep\")\n",
    "    def work(self):\n",
    "        print(\"I can test\")\n",
    "boy1=Boy(\"Priyanka\",1,\"python\")\n",
    "boy1.work()\n",
    "Human.work(boy1)\n",
    "Male.work(boy1)\n",
    "print(f\"I have {boy1.num_eyes} eyes\")\n",
    "print(f\"I have {boy1.num_hearts} heart\")\n",
    "print(f\"I am {boy1.name}\")\n",
    "print(f\"I teach {boy1.language}\")"
   ]
  },
  {
   "cell_type": "code",
   "execution_count": 69,
   "id": "15fe4084-6ec1-4f7d-bc59-7b0945730238",
   "metadata": {},
   "outputs": [
    {
     "name": "stdout",
     "output_type": "stream",
     "text": [
      "calling __init__ from Human\n",
      "calling __init__ from Male\n",
      "I can test\n",
      "I can work\n",
      "I can code\n",
      "I have 2 eyes\n",
      "I have 1 heart\n",
      "I am Priyanka\n",
      "I teach python\n",
      "Hello, I am Priyanka. I have 2 eyes. I have 1 nose. I have 1 heart. I teach python\n"
     ]
    }
   ],
   "source": [
    "#now add display() method in child class and print all attributes from all classes\n",
    "class Human:\n",
    "    def __init__(self,num_hearts):\n",
    "        self.num_eyes=2\n",
    "        self.num_nose=1\n",
    "        self.num_hearts=num_hearts\n",
    "        print(\"calling __init__ from Human\")\n",
    "    def eat(self):\n",
    "        print(\"I can eat\")\n",
    "    def work(self):\n",
    "        print(\"I can work\")\n",
    "class Male:\n",
    "    def __init__(self,name):\n",
    "        self.name=name\n",
    "        print(\"calling __init__ from Male\")\n",
    "    def flirt(self):\n",
    "        print(\"I can flirt\")\n",
    "    def work(self):\n",
    "        print(\"I can code\")\n",
    "class Boy(Human,Male):\n",
    "    def __init__(self,name,num_hearts,language):\n",
    "        Human.__init__(self,num_hearts)\n",
    "        Male.__init__(self,name)\n",
    "        self.language=language\n",
    "    def sleep(self):\n",
    "        print(\"I can sleep\")\n",
    "    def work(self):\n",
    "        print(\"I can test\")\n",
    "    def display(self):\n",
    "        print(f\"Hello, I am {self.name}. I have {self.num_eyes} eyes. I have {self.num_nose} nose. I have {self.num_hearts} heart. I teach {self.language}\")\n",
    "boy1=Boy(\"Priyanka\",1,\"python\")\n",
    "boy1.work()\n",
    "Human.work(boy1)\n",
    "Male.work(boy1)\n",
    "print(f\"I have {boy1.num_eyes} eyes\")\n",
    "print(f\"I have {boy1.num_hearts} heart\")\n",
    "print(f\"I am {boy1.name}\")\n",
    "print(f\"I teach {boy1.language}\")\n",
    "boy1.display()"
   ]
  },
  {
   "cell_type": "code",
   "execution_count": 21,
   "id": "4cb719a0-7da5-4232-9585-735d4a9c106c",
   "metadata": {},
   "outputs": [
    {
     "name": "stdout",
     "output_type": "stream",
     "text": [
      "calling init from human class\n",
      "Calling init from Male class\n",
      "I can test\n",
      "I can work\n",
      "I can code\n",
      "I am: Ajay\n",
      "I have: 2 eyes\n",
      "I have: 1 nose\n",
      "I have: 1 heart\n",
      "I teach: Python language\n",
      "I am Ajay. I have 2 eyes. I have 1 nose. I have 1 heart. I teach Python.\n",
      "[<class '__main__.Boy'>, <class '__main__.Male'>, <class '__main__.Human'>, <class 'object'>]\n"
     ]
    }
   ],
   "source": [
    "#MULTI-LEVEL inheritance\n",
    "class Human:\n",
    "    def __init__(self,num_hearts):\n",
    "        print(\"calling init from human class\")\n",
    "        self.num_eyes=2\n",
    "        self.num_nose=1\n",
    "        self.num_hearts=num_hearts\n",
    "    def eat(self):\n",
    "        print(\"I can eat\")\n",
    "    def work(self):\n",
    "        print(\"I can work\")\n",
    "class Male(Human):\n",
    "    def __init__(self,name):\n",
    "        print(\"Calling init from Male class\")\n",
    "        self.name=name\n",
    "    def sleep(self):\n",
    "        print(\"I can sleep whole day\")\n",
    "    def work(self):\n",
    "        print(\"I can code\")\n",
    "class Boy(Male):\n",
    "    def __init__(self,language,num_hearts,name):\n",
    "        self.language=language\n",
    "        Human.__init__(self,num_hearts) #here child class itself had init method then init from parent classes will not be called , so to call them we need to use \"classname.init(self,any attributes)\"\n",
    "        Male.__init__(self,name)\n",
    "    def speak(self):\n",
    "        print(\"I can speak\")\n",
    "    def work(self):\n",
    "        print(\"I can test\")\n",
    "    #now add display() to call all attributes from all classes\n",
    "    def display(self):\n",
    "        print(f\"I am {self.name}. I have {self.num_eyes} eyes. I have {self.num_nose} nose. I have {self.num_hearts} heart. I teach {self.language}.\")\n",
    "obj1=Boy(\"Python\",1,\"Ajay\")\n",
    "obj1.work() #here work() from Boy class will be called but not from Human and Male class because when the child has itself have the method of same name from parent classes the parent class method will not be called ,it will overridden by child class\n",
    "#so we need to call parent classes methods by \"Class_name.Method_name(object_name)\"\n",
    "Human.work(obj1)\n",
    "Male.work(obj1)\n",
    "#now call attributes\n",
    "print(\"I am:\",obj1.name)\n",
    "print(\"I have:\",obj1.num_eyes,\"eyes\")\n",
    "print(\"I have:\",obj1.num_nose,\"nose\")\n",
    "print(\"I have:\",obj1.num_hearts,\"heart\")\n",
    "print(\"I teach:\",obj1.language,\"language\")\n",
    "obj1.display()\n",
    "#call classname.mro() [method resolution order] to check the priority of attributes & methods of classes\n",
    "print(Boy.mro())"
   ]
  },
  {
   "cell_type": "code",
   "execution_count": 33,
   "id": "3f7d0a41-c21c-4bc6-aacd-405c7135e95f",
   "metadata": {},
   "outputs": [
    {
     "name": "stdout",
     "output_type": "stream",
     "text": [
      "calling init from Male class\n",
      "calling init from Human class\n",
      "I am Ajay and I am 25 old.\n",
      "Hyderabad\n",
      "I can work\n",
      "I can code\n",
      "I can eat\n",
      "I can sleep whole day\n",
      "calling init from Boy class\n",
      "calling init from Human class\n",
      "I am Varun and I am 22 old.\n",
      "VVIT\n",
      "I can work\n",
      "I can code\n",
      "I can test\n",
      "I can flirt\n",
      "I can eat\n",
      "[<class '__main__.Boy'>, <class '__main__.Male'>, <class '__main__.Human'>, <class 'object'>]\n",
      "[<class '__main__.Male'>, <class '__main__.Human'>, <class 'object'>]\n"
     ]
    }
   ],
   "source": [
    "#HIERARCHICAL inheritance\n",
    "class Human:\n",
    "    def __init__(self,name,age):\n",
    "        print(\"calling init from Human class\")\n",
    "        self.name=name\n",
    "        self.age=age\n",
    "    def showdetails(self):\n",
    "        print(f\"I am {self.name} and I am {self.age} old.\")\n",
    "    def eat(self):\n",
    "        print(\"I can eat\")\n",
    "    def work(self):\n",
    "        print(\"I can work\")\n",
    "class Male(Human):\n",
    "    def __init__(self,name,age,location):\n",
    "        print(\"calling init from Male class\")\n",
    "        super().__init__(name,age)\n",
    "        self.location=location\n",
    "    def work(self):\n",
    "        super().work()\n",
    "        print(\"I can code\")\n",
    "    def sleep(self):\n",
    "        print(\"I can sleep whole day\")\n",
    "class Boy(Male):\n",
    "    def __init__(self,name,age,college):\n",
    "        print(\"calling init from Boy class\")\n",
    "        Human.__init__(self,name,age)\n",
    "        self.college=college\n",
    "    def work(self):\n",
    "        super().work()\n",
    "        print(\"I can test\")\n",
    "    def flirt(self):\n",
    "        print(\"I can flirt\")\n",
    "male1=Male(\"Ajay\",25,\"Hyderabad\")\n",
    "male1.showdetails()\n",
    "print(male1.location)\n",
    "male1.work()\n",
    "male1.eat()\n",
    "male1.sleep()\n",
    "boy1=Boy(\"Varun\",22,\"VVIT\")\n",
    "boy1.showdetails()\n",
    "print(boy1.college)\n",
    "boy1.work()\n",
    "boy1.flirt()\n",
    "boy1.eat()\n",
    "print(Boy.mro())\n",
    "print(Male.mro())"
   ]
  },
  {
   "cell_type": "code",
   "execution_count": 31,
   "id": "032742e4-8bd2-4e8b-adbd-8f9a9054cfd5",
   "metadata": {},
   "outputs": [
    {
     "ename": "TypeError",
     "evalue": "Course.__init__() takes 2 positional arguments but 3 were given",
     "output_type": "error",
     "traceback": [
      "\u001b[1;31m---------------------------------------------------------------------------\u001b[0m",
      "\u001b[1;31mTypeError\u001b[0m                                 Traceback (most recent call last)",
      "Cell \u001b[1;32mIn[31], line 34\u001b[0m\n\u001b[0;32m     32\u001b[0m     \u001b[38;5;28;01mdef\u001b[39;00m \u001b[38;5;21mshowdetails\u001b[39m(\u001b[38;5;28mself\u001b[39m):\n\u001b[0;32m     33\u001b[0m         \u001b[38;5;28mprint\u001b[39m(\u001b[38;5;124mf\u001b[39m\u001b[38;5;124m\"\u001b[39m\u001b[38;5;124mFaculty name: \u001b[39m\u001b[38;5;132;01m{\u001b[39;00m\u001b[38;5;28mself\u001b[39m\u001b[38;5;241m.\u001b[39mname\u001b[38;5;132;01m}\u001b[39;00m\u001b[38;5;130;01m\\n\u001b[39;00m\u001b[38;5;124m Branch: \u001b[39m\u001b[38;5;132;01m{\u001b[39;00m\u001b[38;5;28mself\u001b[39m\u001b[38;5;241m.\u001b[39mbranch_name\u001b[38;5;132;01m}\u001b[39;00m\u001b[38;5;130;01m\\n\u001b[39;00m\u001b[38;5;124m University: \u001b[39m\u001b[38;5;132;01m{\u001b[39;00m\u001b[38;5;28mself\u001b[39m\u001b[38;5;241m.\u001b[39muni_name\u001b[38;5;132;01m}\u001b[39;00m\u001b[38;5;124m\"\u001b[39m)\n\u001b[1;32m---> 34\u001b[0m course1\u001b[38;5;241m=\u001b[39mCourse(\u001b[38;5;124m\"\u001b[39m\u001b[38;5;124mANU\u001b[39m\u001b[38;5;124m\"\u001b[39m,\u001b[38;5;124m\"\u001b[39m\u001b[38;5;124mAI\u001b[39m\u001b[38;5;124m\"\u001b[39m)\n\u001b[0;32m     35\u001b[0m course1\u001b[38;5;241m.\u001b[39mshowdetails()\n\u001b[0;32m     36\u001b[0m \u001b[38;5;28mprint\u001b[39m(course1\u001b[38;5;241m.\u001b[39muni_name)\n",
      "\u001b[1;31mTypeError\u001b[0m: Course.__init__() takes 2 positional arguments but 3 were given"
     ]
    }
   ],
   "source": [
    "#HYBRID inheritance\n",
    "class University:\n",
    "    def __init__(self,uni_name):\n",
    "        self.uni_name=uni_name\n",
    "    def showdetails(self):\n",
    "        print(f\"Name of university: {self.uni_name}.\")\n",
    "class Course(University):\n",
    "    def __init__(self,course_name):\n",
    "        self.course_name=course_name\n",
    "    def showdetails(self):\n",
    "        print(f\"course: {self.course_name}\")\n",
    "class Branch(University):\n",
    "    def __init__(self,branch_name,uni_name):\n",
    "        self.branch_name=branch_name\n",
    "        super().__init__(uni_name)\n",
    "    def showdetails(self):\n",
    "        print(f\"branch name: {self.branch_name}\")\n",
    "class Student(Course,Branch):\n",
    "    def __init__(self,name,course_name,branch_name):\n",
    "        self.name=name\n",
    "        self.age=age\n",
    "        Course.__init__(self,course_name)\n",
    "        Branch.__init__(self,branch_name,uni_name)\n",
    "    def showdetails(self):\n",
    "        print(f\"Student name: {self.name}\\n Student age: {self.age}\")\n",
    "        Course.showdetails(self)\n",
    "        Branch.showdetails(self)\n",
    "class Faculty(Branch):\n",
    "    def __init__(self,name,uni_name,branch_name):\n",
    "        self.name=name\n",
    "        Branch.__init__(self,branch_name)\n",
    "    def showdetails(self):\n",
    "        print(f\"Faculty name: {self.name}\\n Branch: {self.branch_name}\\n University: {self.uni_name}\")\n",
    "course1=Course(\"ANU\",\"AI\")\n",
    "course1.showdetails()\n",
    "print(course1.uni_name)\n",
    "print(course1.course_name)\n",
    "branch1=Branch(\"CSE\",\"ANU\")\n",
    "branch1.showdetails()\n",
    "print(branch1.uni_name)\n",
    "student1=Student(\"Pawan Kalyan\",51,\"ANU\",\"CSE\",\"AI\")\n",
    "student1.showdetails()"
   ]
  },
  {
   "cell_type": "markdown",
   "id": "f48cb093-0a7c-4368-8664-0bf173a04e5a",
   "metadata": {},
   "source": [
    "### File Handling ###"
   ]
  },
  {
   "cell_type": "code",
   "execution_count": 12,
   "id": "6e447f2f-5936-42ab-aa0d-d4617c941127",
   "metadata": {},
   "outputs": [
    {
     "name": "stdout",
     "output_type": "stream",
     "text": [
      "File created successfully\n"
     ]
    }
   ],
   "source": [
    "f1=open(\"Hello.txt\",'x')\n",
    "if f1:\n",
    "    print(\"File created successfully\")\n",
    "else:\n",
    "    print(\"File was not created\")"
   ]
  },
  {
   "cell_type": "code",
   "execution_count": 14,
   "id": "427fc42a-9fbd-4dcd-b9a0-1ca9fa2631cf",
   "metadata": {},
   "outputs": [],
   "source": [
    "with open(\"Hello.txt\",'w') as f1:\n",
    "    f1.write(\"Hello! Good Morning. I am just working on a File Handling in python.\")\n"
   ]
  },
  {
   "cell_type": "code",
   "execution_count": 16,
   "id": "66f9c7fa-8536-4d69-a519-a7d861bb3527",
   "metadata": {},
   "outputs": [
    {
     "name": "stdout",
     "output_type": "stream",
     "text": [
      "Hello! Good Morning. I am just working on a File Handling in python.\n"
     ]
    }
   ],
   "source": [
    "with open(\"Hello.txt\",'r') as f1:\n",
    "    content=f1.read()\n",
    "    print(content)"
   ]
  },
  {
   "cell_type": "code",
   "execution_count": 18,
   "id": "0a72b9dc-780d-4528-b911-e39f1290e089",
   "metadata": {},
   "outputs": [
    {
     "name": "stdout",
     "output_type": "stream",
     "text": [
      "file closed successfully\n"
     ]
    }
   ],
   "source": [
    "f1.close()\n",
    "if f1:\n",
    "    print(\"file closed successfully\")"
   ]
  },
  {
   "cell_type": "code",
   "execution_count": 30,
   "id": "f7df2f65-bf4c-4dab-bb49-e366e9af238a",
   "metadata": {},
   "outputs": [
    {
     "name": "stdout",
     "output_type": "stream",
     "text": [
      "cursor is at: 0\n",
      "cursor is at: 23\n",
      "cursor is at: 0\n",
      "cursor is at: 23\n",
      "Hello! I am from India.\n",
      "cursor is at: 23\n",
      "File closed successfully\n"
     ]
    }
   ],
   "source": [
    "file=open(\"India.txt\",'w')\n",
    "print(\"cursor is at:\",file.tell())\n",
    "file.write(\"Hello! I am from India.\")\n",
    "print(\"cursor is at:\",file.tell())\n",
    "with open(\"India.txt\",'r') as file:\n",
    "    print(\"cursor is at:\",file.tell())\n",
    "    content=file.read()\n",
    "    print(\"cursor is at:\",file.tell())\n",
    "    print(content)\n",
    "    print(\"cursor is at:\",file.tell())\n",
    "file.close()\n",
    "if file:\n",
    "    print(\"File closed successfully\")"
   ]
  },
  {
   "cell_type": "code",
   "execution_count": 38,
   "id": "67a49722-c234-4f71-8317-a4eaf5754afc",
   "metadata": {},
   "outputs": [
    {
     "name": "stdout",
     "output_type": "stream",
     "text": [
      "\n",
      "Hello! India\n"
     ]
    }
   ],
   "source": [
    "file2=open(\"India.txt\",'w')\n",
    "with open(\"India.txt\",'r') as file2:\n",
    "    content=file2.read()\n",
    "    print(content)\n",
    "with open(\"India.txt\",'w') as file2:\n",
    "    file2.write(\"Hello! India\")\n",
    "with open(\"India.txt\",'r') as file2:\n",
    "    content=file2.read()\n",
    "    print(content)\n",
    "file2.close()"
   ]
  },
  {
   "cell_type": "code",
   "execution_count": 25,
   "id": "d081853a-a260-4c77-abb0-bfe3fce1cb03",
   "metadata": {},
   "outputs": [
    {
     "name": "stdout",
     "output_type": "stream",
     "text": [
      "Hello BhargaviHello Ansh\n",
      "Hello Bhargavi\n"
     ]
    }
   ],
   "source": [
    "file1=open(\"file_1.txt\",'a')\n",
    "file1.write(\"Hello Ansh\")\n",
    "file1.tell()\n",
    "with open(\"file_1.txt\",'r') as f1:\n",
    "    data=f1.read()\n",
    "    print(data)\n",
    "with open(\"file_1.txt\",'w') as f1:\n",
    "    f1.write(\"Hello Bhargavi\")\n",
    "with open(\"file_1.txt\",'r') as f1:\n",
    "    data=f1.read()\n",
    "    print(data)\n",
    "file1.close()"
   ]
  },
  {
   "cell_type": "code",
   "execution_count": 31,
   "id": "c169c8cf-1f5a-4c1c-a8d3-51fc23b6ceea",
   "metadata": {},
   "outputs": [
    {
     "name": "stdout",
     "output_type": "stream",
     "text": [
      "40\n",
      "60\n",
      "0\n",
      "hello, I am Bhargavihello, I am Bhargavihello, I am Bhargavi\n",
      "hello, I am Bhargavihello, I am Bhargavihello, I am BhargaviBruhhh\n"
     ]
    }
   ],
   "source": [
    "f2=open(\"file2.txt\",'a+')\n",
    "print(f2.tell())\n",
    "f2.write(\"hello, I am Bhargavi\")\n",
    "print(f2.tell())\n",
    "f2.seek(0)\n",
    "print(f2.tell())\n",
    "print(f2.read())\n",
    "f2.write(\"Bruhhh\")\n",
    "f2.seek(0)\n",
    "print(f2.read())"
   ]
  },
  {
   "cell_type": "code",
   "execution_count": null,
   "id": "dd7de62a-78bd-4e7d-bba1-8fa27354c548",
   "metadata": {},
   "outputs": [],
   "source": []
  },
  {
   "cell_type": "code",
   "execution_count": null,
   "id": "ddf770fd-6b3b-491b-896b-b3d6c1c8712d",
   "metadata": {},
   "outputs": [],
   "source": []
  }
 ],
 "metadata": {
  "kernelspec": {
   "display_name": "Python 3 (ipykernel)",
   "language": "python",
   "name": "python3"
  },
  "language_info": {
   "codemirror_mode": {
    "name": "ipython",
    "version": 3
   },
   "file_extension": ".py",
   "mimetype": "text/x-python",
   "name": "python",
   "nbconvert_exporter": "python",
   "pygments_lexer": "ipython3",
   "version": "3.12.4"
  }
 },
 "nbformat": 4,
 "nbformat_minor": 5
}
