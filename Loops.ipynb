{
 "cells": [
  {
   "cell_type": "markdown",
   "id": "04e948da-2b01-46ae-9005-1a603a1cd37a",
   "metadata": {},
   "source": [
    "#FOR LOOP"
   ]
  },
  {
   "cell_type": "code",
   "execution_count": 5,
   "id": "900ea144-1041-4521-98cb-ac2b9c9a0d53",
   "metadata": {},
   "outputs": [
    {
     "name": "stdout",
     "output_type": "stream",
     "text": [
      "1 2 3 4 5 6 7 8 9 10 11 12 13 14 "
     ]
    }
   ],
   "source": [
    "for i in range(1,15):\n",
    "    print(i,end=\" \")"
   ]
  },
  {
   "cell_type": "code",
   "execution_count": 7,
   "id": "f01dde1a-24f7-44eb-aa72-806e139cc359",
   "metadata": {},
   "outputs": [
    {
     "name": "stdout",
     "output_type": "stream",
     "text": [
      "priyanka\n",
      "hema\n",
      "bhargavi\n",
      "radha\n"
     ]
    }
   ],
   "source": [
    "names=[\"priyanka\",\"hema\",\"bhargavi\",\"radha\"]\n",
    "for i in names:\n",
    "    print(i)"
   ]
  },
  {
   "cell_type": "code",
   "execution_count": 9,
   "id": "4662a486-0d9f-4697-b983-a2e6d78e241b",
   "metadata": {},
   "outputs": [
    {
     "name": "stdout",
     "output_type": "stream",
     "text": [
      "result:  39\n"
     ]
    }
   ],
   "source": [
    "numbers=[2,4,8,9,6,10]\n",
    "result=0\n",
    "for i in numbers:\n",
    "    result+=i\n",
    "print(\"result: \",result)"
   ]
  },
  {
   "cell_type": "code",
   "execution_count": 11,
   "id": "646b49af-06a5-403a-b75d-d589bb8e495d",
   "metadata": {},
   "outputs": [
    {
     "name": "stdout",
     "output_type": "stream",
     "text": [
      "even_list:  [2, 4, 6, 8, 10]\n",
      "odd_list:  [1, 3, 5, 7, 9]\n"
     ]
    }
   ],
   "source": [
    "list1=range(1,11)\n",
    "list2_even=[]\n",
    "list2_odd=[]\n",
    "for i in list1:\n",
    "    if i%2==0:\n",
    "        list2_even.append(i)\n",
    "    else:\n",
    "        list2_odd.append(i)\n",
    "print(\"even_list: \",list2_even)\n",
    "print(\"odd_list: \",list2_odd)\n",
    "        "
   ]
  },
  {
   "cell_type": "code",
   "execution_count": 15,
   "id": "8097cb8b-47c2-4c06-b519-2b9f438d2380",
   "metadata": {},
   "outputs": [
    {
     "name": "stdout",
     "output_type": "stream",
     "text": [
      "The sum of the squares:  220\n"
     ]
    }
   ],
   "source": [
    "numbers=[2,4,6,8,10]\n",
    "result=0\n",
    "for i in numbers:\n",
    "    result=result+i**2\n",
    "print(\"The sum of the squares: \",result)"
   ]
  },
  {
   "cell_type": "markdown",
   "id": "9131816e-03f2-4cbc-bab2-ad08cbd6d2f1",
   "metadata": {},
   "source": [
    "###FACTORIAL"
   ]
  },
  {
   "cell_type": "code",
   "execution_count": 28,
   "id": "ee49c447-e79e-4599-a550-79e4c639e557",
   "metadata": {},
   "outputs": [
    {
     "name": "stdout",
     "output_type": "stream",
     "text": [
      "The factorial of 5 is 120\n",
      "The sum of factorial of 5 is 153\n"
     ]
    }
   ],
   "source": [
    "number = 5\n",
    "result = 1\n",
    "for i in range(1,number+1):\n",
    "    result = result * i\n",
    "    sum=sum+result\n",
    "print(f\"The factorial of {number} is {result}\")"
   ]
  },
  {
   "cell_type": "code",
   "execution_count": 32,
   "id": "669dc6cb-c248-458b-8120-7f404560c789",
   "metadata": {},
   "outputs": [
    {
     "name": "stdout",
     "output_type": "stream",
     "text": [
      "5 * 1 = 5\n",
      "5 * 2 = 10\n",
      "5 * 3 = 15\n",
      "5 * 4 = 20\n",
      "5 * 5 = 25\n",
      "5 * 6 = 30\n",
      "5 * 7 = 35\n",
      "5 * 8 = 40\n",
      "5 * 9 = 45\n",
      "5 * 10 = 50\n"
     ]
    }
   ],
   "source": [
    "num=5\n",
    "for i in range(1,11):\n",
    "    print(num,\"*\",i,\"=\",i*num)"
   ]
  },
  {
   "cell_type": "markdown",
   "id": "6419fdc6-a1fe-4589-98e8-19ede34c990c",
   "metadata": {},
   "source": [
    "###WHILE LOOP"
   ]
  },
  {
   "cell_type": "code",
   "execution_count": 35,
   "id": "169d33f8-5d04-4c73-a6b2-0f6b5a484428",
   "metadata": {},
   "outputs": [
    {
     "name": "stdout",
     "output_type": "stream",
     "text": [
      "1 2 3 4 5 6 7 8 9 10 "
     ]
    }
   ],
   "source": [
    "i=1\n",
    "while i<=10:\n",
    "    print(i,end=\" \")\n",
    "    i+=1"
   ]
  },
  {
   "cell_type": "code",
   "execution_count": 42,
   "id": "c7e5c99a-94f6-4765-ac06-f64c62a0a72d",
   "metadata": {},
   "outputs": [
    {
     "name": "stdout",
     "output_type": "stream",
     "text": [
      "sum of list:  30\n"
     ]
    }
   ],
   "source": [
    "list1=[2,4,6,8,10]\n",
    "i=0\n",
    "sum=0\n",
    "while i<len(list1):\n",
    "    sum=sum+list1[i]\n",
    "    i+=1\n",
    "print(\"sum of list: \",sum)\n",
    "    "
   ]
  },
  {
   "cell_type": "code",
   "execution_count": 46,
   "id": "280928a2-3753-45f1-8559-f282e822c320",
   "metadata": {},
   "outputs": [
    {
     "name": "stdout",
     "output_type": "stream",
     "text": [
      "5,7,10,14,15,20,21,25,28,30,35,40,42,45,49,50,"
     ]
    }
   ],
   "source": [
    "i=1\n",
    "while i<51:\n",
    "    if i%5==0 or i%7==0:\n",
    "        print(i,end=\",\")\n",
    "    i+=1"
   ]
  },
  {
   "cell_type": "code",
   "execution_count": 48,
   "id": "d1008e00-0011-4b76-b0e7-7238df7440e3",
   "metadata": {},
   "outputs": [
    {
     "name": "stdout",
     "output_type": "stream",
     "text": [
      "factorial of 5 is:  120\n"
     ]
    }
   ],
   "source": [
    "num=5\n",
    "i=1\n",
    "result=1\n",
    "while i<=5:\n",
    "    result=result*i\n",
    "    i+=1\n",
    "print(\"factorial of 5 is: \",result)"
   ]
  },
  {
   "cell_type": "code",
   "execution_count": 56,
   "id": "95aec769-89a0-4982-8208-33f95d5b519b",
   "metadata": {},
   "outputs": [
    {
     "name": "stdout",
     "output_type": "stream",
     "text": [
      "List of squares:  [1, 4, 9, 16, 25]\n"
     ]
    }
   ],
   "source": [
    "numbers=[2,4,6,8,10]\n",
    "list1=[]\n",
    "i=1\n",
    "while i<=len(numbers):\n",
    "    square=i*i\n",
    "    list1.append(square)\n",
    "    i+=1\n",
    "print(\"List of squares: \",list1)"
   ]
  },
  {
   "cell_type": "code",
   "execution_count": 60,
   "id": "0c2113e8-c070-42ba-bfd9-2de2f2479cdb",
   "metadata": {},
   "outputs": [
    {
     "name": "stdout",
     "output_type": "stream",
     "text": [
      "4 * 1 = 4\n",
      "4 * 2 = 8\n",
      "4 * 3 = 12\n",
      "4 * 4 = 16\n",
      "4 * 5 = 20\n",
      "4 * 6 = 24\n",
      "4 * 7 = 28\n",
      "4 * 8 = 32\n",
      "4 * 9 = 36\n",
      "4 * 10 = 40\n",
      "4 * 11 = 44\n",
      "4 * 12 = 48\n",
      "4 * 13 = 52\n",
      "4 * 14 = 56\n",
      "4 * 15 = 60\n"
     ]
    }
   ],
   "source": [
    "num=4\n",
    "i=1\n",
    "while i<=15:\n",
    "    print(num,\"*\",i,\"=\",num*i)\n",
    "    i+=1"
   ]
  },
  {
   "cell_type": "markdown",
   "id": "02d7b173-c431-4f5c-8170-fd336400327b",
   "metadata": {},
   "source": [
    "#Secret_Number_Game"
   ]
  },
  {
   "cell_type": "code",
   "execution_count": 63,
   "id": "02562984-4856-47d9-a74f-115de7577e41",
   "metadata": {},
   "outputs": [
    {
     "name": "stdin",
     "output_type": "stream",
     "text": [
      "Enter the number:  66\n"
     ]
    },
    {
     "name": "stdout",
     "output_type": "stream",
     "text": [
      "Try again\n"
     ]
    },
    {
     "name": "stdin",
     "output_type": "stream",
     "text": [
      "Enter the number:  3744444444\n"
     ]
    },
    {
     "name": "stdout",
     "output_type": "stream",
     "text": [
      "Try again\n"
     ]
    },
    {
     "name": "stdin",
     "output_type": "stream",
     "text": [
      "Enter the number:  4763476\n"
     ]
    },
    {
     "name": "stdout",
     "output_type": "stream",
     "text": [
      "Try again\n"
     ]
    },
    {
     "name": "stdin",
     "output_type": "stream",
     "text": [
      "Enter the number:  8\n"
     ]
    },
    {
     "name": "stdout",
     "output_type": "stream",
     "text": [
      "Try again\n"
     ]
    },
    {
     "name": "stdin",
     "output_type": "stream",
     "text": [
      "Enter the number:  7\n"
     ]
    },
    {
     "name": "stdout",
     "output_type": "stream",
     "text": [
      "Congratulations, You guessed the secret number\n"
     ]
    }
   ],
   "source": [
    "secret_number=7\n",
    "guess=0\n",
    "while guess!=secret_number:\n",
    "    guess=int(input(\"Enter the number: \"))\n",
    "    if guess !=secret_number:\n",
    "        print(\"Try again\")\n",
    "print(\"Congratulations, You guessed the secret number\")"
   ]
  },
  {
   "cell_type": "markdown",
   "id": "3c8aba2b-5a62-4061-9c39-e92016cb73ad",
   "metadata": {},
   "source": [
    "#BREAK Statement"
   ]
  },
  {
   "cell_type": "code",
   "execution_count": 89,
   "id": "6af9c268-c97e-4aba-bb1e-f47fe4749ff3",
   "metadata": {},
   "outputs": [
    {
     "name": "stdout",
     "output_type": "stream",
     "text": [
      "1,2,3,"
     ]
    }
   ],
   "source": [
    "#Break statement with for loop\n",
    "for i in range(1,6):\n",
    "    if i==4:\n",
    "        break\n",
    "    print(i,end=\",\")"
   ]
  },
  {
   "cell_type": "code",
   "execution_count": 91,
   "id": "3a0a1b96-bd23-4599-a603-628033ad469a",
   "metadata": {},
   "outputs": [
    {
     "name": "stdout",
     "output_type": "stream",
     "text": [
      "1 2 3 4 "
     ]
    }
   ],
   "source": [
    "#Break statement with while loop\n",
    "count=1\n",
    "while count<=10:\n",
    "    if count==5:\n",
    "        break\n",
    "    print(count,end=\" \")\n",
    "    count+=1"
   ]
  },
  {
   "cell_type": "markdown",
   "id": "ecbaf35b-4b63-4528-8ca0-b7c85ea31d9f",
   "metadata": {},
   "source": [
    "#CONTINUE Statement"
   ]
  },
  {
   "cell_type": "code",
   "execution_count": 93,
   "id": "560a0d1e-64de-4128-9a78-9702bc44dc40",
   "metadata": {},
   "outputs": [
    {
     "name": "stdout",
     "output_type": "stream",
     "text": [
      "1,3,5,"
     ]
    }
   ],
   "source": [
    "#continue statement with for loop\n",
    "for i in range(1,6):\n",
    "    if i==4 or i==2:\n",
    "        continue\n",
    "    print(i,end=\",\")"
   ]
  },
  {
   "cell_type": "code",
   "execution_count": 109,
   "id": "1c1ff77f-8812-4baa-8952-a8f9a5c7bf42",
   "metadata": {},
   "outputs": [
    {
     "name": "stdout",
     "output_type": "stream",
     "text": [
      "1,3,4,6,7,8,9,10,"
     ]
    }
   ],
   "source": [
    "#continue statement with while loop\n",
    "i=1\n",
    "while i<=10:\n",
    "    if i==2 or i==5:\n",
    "        i+=1\n",
    "        continue\n",
    "    print(i,end=\",\")\n",
    "    i+=1\n"
   ]
  },
  {
   "cell_type": "markdown",
   "id": "f48c5d21-d9de-4b14-8f39-bcc6fb5d9f67",
   "metadata": {},
   "source": [
    "#PASS statement"
   ]
  },
  {
   "cell_type": "code",
   "execution_count": 83,
   "id": "e70a3ccd-2815-48d9-88f6-af739519cd86",
   "metadata": {},
   "outputs": [
    {
     "name": "stdin",
     "output_type": "stream",
     "text": [
      "enter number:  77\n"
     ]
    },
    {
     "name": "stdout",
     "output_type": "stream",
     "text": [
      "77\n"
     ]
    }
   ],
   "source": [
    "num=int(input(\"enter number: \"))\n",
    "if num%2==0:\n",
    "    pass\n",
    "else:\n",
    "    print(num)"
   ]
  }
 ],
 "metadata": {
  "kernelspec": {
   "display_name": "Python 3 (ipykernel)",
   "language": "python",
   "name": "python3"
  },
  "language_info": {
   "codemirror_mode": {
    "name": "ipython",
    "version": 3
   },
   "file_extension": ".py",
   "mimetype": "text/x-python",
   "name": "python",
   "nbconvert_exporter": "python",
   "pygments_lexer": "ipython3",
   "version": "3.12.4"
  }
 },
 "nbformat": 4,
 "nbformat_minor": 5
}
